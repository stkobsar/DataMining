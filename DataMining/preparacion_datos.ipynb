{
 "cells": [
  {
   "cell_type": "markdown",
   "metadata": {},
   "source": [
    "<div style=\"width: 100%; clear: both;\">\n",
    "<div style=\"float: left; width: 50%;\">\n",
    "<img src=\"http://www.uoc.edu/portal/_resources/common/imatges/marca_UOC/UOC_Masterbrand.jpg\" align=\"left\">\n",
    "</div>\n",
    "<div style=\"float: right; width: 50%;\">\n",
    "<p style=\"margin: 0; padding-top: 22px; text-align:right;\">M2.955 · Modelos avanzados de minería de datos · PEC1</p>\n",
    "<p style=\"margin: 0; text-align:right;\">2020-1 · Máster universitario en Ciencia de datos (Data science)</p>\n",
    "<p style=\"margin: 0; text-align:right; padding-button: 100px;\">Estudios de Informática, Multimedia y Telecomunicación\n",
    "\n",
    " </p>\n",
    "</div>\n",
    "</div>\n",
    "<div style=\"width:100%;\">&nbsp;</div>\n",
    "\n",
    "\n",
    "# PEC 1: Preparación de datos\n",
    "\n",
    "A lo largo de esta práctica veremos como aplicar diferentes tecnicas para la carga y preparación de datos:\n",
    "\n",
    " <ol start=\"1\">\n",
    "  <li>Carga de un conjunto de datos</li>\n",
    "  <li>Análisis de los datos\n",
    "  <br>2.1 Análisis estadístico básico\n",
    "  <br>2.2 Análisis expxloratorio de los datos\n",
    "  <li>Reducción de la dimensionalidad</li>\n",
    "  <li>Entrenamiento y test</li>\n",
    "</ol>\n",
    "   \n",
    "Para eso necesitaremos las siguientes librerías:"
   ]
  },
  {
   "cell_type": "code",
   "execution_count": 1,
   "metadata": {},
   "outputs": [],
   "source": [
    "import numpy as np\n",
    "import pandas as pd\n",
    "import seaborn as sns\n",
    "from sklearn import datasets\n",
    "from sklearn import preprocessing\n",
    "from sklearn.manifold import TSNE\n",
    "from sklearn.decomposition import PCA\n",
    "from sklearn.ensemble import RandomForestRegressor\n",
    "from sklearn.metrics import r2_score, mean_absolute_error\n",
    "from sklearn.model_selection import train_test_split, cross_val_score\n",
    "from sklearn.model_selection import validation_curve\n",
    "\n",
    "import matplotlib.pyplot as plt\n",
    "\n",
    "pd.set_option('display.max_columns', None)\n",
    "\n",
    "%matplotlib inline"
   ]
  },
  {
   "cell_type": "markdown",
   "metadata": {},
   "source": [
    "# 1. Carga del conjunto de datos (1 punto)\n",
    "\n",
    "En primer lugar, debéis cargar el conjunto de datos \"Boston house prices\", el cual contiene el valor de las casas en diferentes zonas de Boston dependiendo de múltiples factores. Se puede descargar de internet [aquí](https://archive.ics.uci.edu/ml/machine-learning-databases/housing/) o se puede cargar directamente desde la librería \"scikit-learn\", que incorpora un conjunto de datasets muy conocidos y usados para la minería de datos y machine learning [http://scikit-learn.org/stable/datasets/index.html](http://scikit-learn.org/stable/datasets/index.html).\n",
    "\n",
    "Para los ejercicios de esta PEC, utilizaremos como variable respuesta a \"MEDV\": la mediana del valor de las casas en una zona de Boston (en k$)."
   ]
  },
  {
   "cell_type": "markdown",
   "metadata": {},
   "source": [
    "<div style=\"background-color: #EDF7FF; border-color: #7C9DBF; border-left: 5px solid #7C9DBF; padding: 0.5em;\">\n",
    "<strong>Ejercicio:</strong><br>\n",
    "Cargad el conjunto de datos \"boston house-prices dataset\" y mostrad:\n",
    "<ul>\n",
    "  <li>el número y nombre de los atributos (variables que podrían ser usadas para predecir la respuesta \"MEDV\")</li>\n",
    "  <li>el número de filas del conjunto de datos</li>\n",
    "  <li>verificad si hay o no \"missing values\" y en qué columnas</li>\n",
    "</ul>\n",
    "\n",
    "<hr>\n",
    "Sugerencia: Si usáis sklearn (sklearn.datasets.load_boston), explorad las diferents 'keys' del objecto obtenido.<br>\n",
    "Sugerencia: Igual os resulta útil pasar los datos (atributos + respuesta) a un dataframe de pandas.\n",
    "</div>"
   ]
  },
  {
   "cell_type": "markdown",
   "metadata": {},
   "source": [
    "Dataset como pandas dataframe"
   ]
  },
  {
   "cell_type": "code",
   "execution_count": 2,
   "metadata": {},
   "outputs": [
    {
     "data": {
      "text/html": [
       "<div>\n",
       "<style scoped>\n",
       "    .dataframe tbody tr th:only-of-type {\n",
       "        vertical-align: middle;\n",
       "    }\n",
       "\n",
       "    .dataframe tbody tr th {\n",
       "        vertical-align: top;\n",
       "    }\n",
       "\n",
       "    .dataframe thead th {\n",
       "        text-align: right;\n",
       "    }\n",
       "</style>\n",
       "<table border=\"1\" class=\"dataframe\">\n",
       "  <thead>\n",
       "    <tr style=\"text-align: right;\">\n",
       "      <th></th>\n",
       "      <th>CRIM</th>\n",
       "      <th>ZN</th>\n",
       "      <th>INDUS</th>\n",
       "      <th>CHAS</th>\n",
       "      <th>NOX</th>\n",
       "      <th>RM</th>\n",
       "      <th>AGE</th>\n",
       "      <th>DIS</th>\n",
       "      <th>RAD</th>\n",
       "      <th>TAX</th>\n",
       "      <th>PTRATIO</th>\n",
       "      <th>B</th>\n",
       "      <th>LSTAT</th>\n",
       "      <th>MEDV</th>\n",
       "    </tr>\n",
       "  </thead>\n",
       "  <tbody>\n",
       "    <tr>\n",
       "      <td>0</td>\n",
       "      <td>0.00632</td>\n",
       "      <td>18.0</td>\n",
       "      <td>2.31</td>\n",
       "      <td>0.0</td>\n",
       "      <td>0.538</td>\n",
       "      <td>6.575</td>\n",
       "      <td>65.2</td>\n",
       "      <td>4.0900</td>\n",
       "      <td>1.0</td>\n",
       "      <td>296.0</td>\n",
       "      <td>15.3</td>\n",
       "      <td>396.90</td>\n",
       "      <td>4.98</td>\n",
       "      <td>24.0</td>\n",
       "    </tr>\n",
       "    <tr>\n",
       "      <td>1</td>\n",
       "      <td>0.02731</td>\n",
       "      <td>0.0</td>\n",
       "      <td>7.07</td>\n",
       "      <td>0.0</td>\n",
       "      <td>0.469</td>\n",
       "      <td>6.421</td>\n",
       "      <td>78.9</td>\n",
       "      <td>4.9671</td>\n",
       "      <td>2.0</td>\n",
       "      <td>242.0</td>\n",
       "      <td>17.8</td>\n",
       "      <td>396.90</td>\n",
       "      <td>9.14</td>\n",
       "      <td>21.6</td>\n",
       "    </tr>\n",
       "    <tr>\n",
       "      <td>2</td>\n",
       "      <td>0.02729</td>\n",
       "      <td>0.0</td>\n",
       "      <td>7.07</td>\n",
       "      <td>0.0</td>\n",
       "      <td>0.469</td>\n",
       "      <td>7.185</td>\n",
       "      <td>61.1</td>\n",
       "      <td>4.9671</td>\n",
       "      <td>2.0</td>\n",
       "      <td>242.0</td>\n",
       "      <td>17.8</td>\n",
       "      <td>392.83</td>\n",
       "      <td>4.03</td>\n",
       "      <td>34.7</td>\n",
       "    </tr>\n",
       "    <tr>\n",
       "      <td>3</td>\n",
       "      <td>0.03237</td>\n",
       "      <td>0.0</td>\n",
       "      <td>2.18</td>\n",
       "      <td>0.0</td>\n",
       "      <td>0.458</td>\n",
       "      <td>6.998</td>\n",
       "      <td>45.8</td>\n",
       "      <td>6.0622</td>\n",
       "      <td>3.0</td>\n",
       "      <td>222.0</td>\n",
       "      <td>18.7</td>\n",
       "      <td>394.63</td>\n",
       "      <td>2.94</td>\n",
       "      <td>33.4</td>\n",
       "    </tr>\n",
       "    <tr>\n",
       "      <td>4</td>\n",
       "      <td>0.06905</td>\n",
       "      <td>0.0</td>\n",
       "      <td>2.18</td>\n",
       "      <td>0.0</td>\n",
       "      <td>0.458</td>\n",
       "      <td>7.147</td>\n",
       "      <td>54.2</td>\n",
       "      <td>6.0622</td>\n",
       "      <td>3.0</td>\n",
       "      <td>222.0</td>\n",
       "      <td>18.7</td>\n",
       "      <td>396.90</td>\n",
       "      <td>5.33</td>\n",
       "      <td>36.2</td>\n",
       "    </tr>\n",
       "  </tbody>\n",
       "</table>\n",
       "</div>"
      ],
      "text/plain": [
       "      CRIM    ZN  INDUS  CHAS    NOX     RM   AGE     DIS  RAD    TAX  \\\n",
       "0  0.00632  18.0   2.31   0.0  0.538  6.575  65.2  4.0900  1.0  296.0   \n",
       "1  0.02731   0.0   7.07   0.0  0.469  6.421  78.9  4.9671  2.0  242.0   \n",
       "2  0.02729   0.0   7.07   0.0  0.469  7.185  61.1  4.9671  2.0  242.0   \n",
       "3  0.03237   0.0   2.18   0.0  0.458  6.998  45.8  6.0622  3.0  222.0   \n",
       "4  0.06905   0.0   2.18   0.0  0.458  7.147  54.2  6.0622  3.0  222.0   \n",
       "\n",
       "   PTRATIO       B  LSTAT  MEDV  \n",
       "0     15.3  396.90   4.98  24.0  \n",
       "1     17.8  396.90   9.14  21.6  \n",
       "2     17.8  392.83   4.03  34.7  \n",
       "3     18.7  394.63   2.94  33.4  \n",
       "4     18.7  396.90   5.33  36.2  "
      ]
     },
     "execution_count": 2,
     "metadata": {},
     "output_type": "execute_result"
    }
   ],
   "source": [
    "boston_houseprices = datasets.load_boston()\n",
    "boston_df = pd.DataFrame(boston_houseprices.data)\n",
    "\n",
    "boston_df.columns = boston_houseprices.feature_names\n",
    "boston_df['MEDV'] = boston_houseprices.target\n",
    "boston_df.head()"
   ]
  },
  {
   "cell_type": "markdown",
   "metadata": {},
   "source": [
    "Numero y nombres de los atributos"
   ]
  },
  {
   "cell_type": "code",
   "execution_count": 3,
   "metadata": {
    "scrolled": true
   },
   "outputs": [
    {
     "name": "stdout",
     "output_type": "stream",
     "text": [
      "Index(['CRIM', 'ZN', 'INDUS', 'CHAS', 'NOX', 'RM', 'AGE', 'DIS', 'RAD', 'TAX',\n",
      "       'PTRATIO', 'B', 'LSTAT', 'MEDV'],\n",
      "      dtype='object')\n"
     ]
    }
   ],
   "source": [
    "nombre_atributos = boston_df.columns\n",
    "print(nombre_atributos)"
   ]
  },
  {
   "cell_type": "code",
   "execution_count": 4,
   "metadata": {},
   "outputs": [
    {
     "name": "stdout",
     "output_type": "stream",
     "text": [
      "El numero de atributos es: 14\n"
     ]
    }
   ],
   "source": [
    "num_atr = len(nombre_atributos)\n",
    "\n",
    "print(f\"El numero de atributos es: {num_atr}\")"
   ]
  },
  {
   "cell_type": "markdown",
   "metadata": {},
   "source": [
    "Numero de filas\n"
   ]
  },
  {
   "cell_type": "code",
   "execution_count": 5,
   "metadata": {},
   "outputs": [
    {
     "name": "stdout",
     "output_type": "stream",
     "text": [
      "El numero de filas es: 506\n"
     ]
    }
   ],
   "source": [
    "count_row = boston_df.shape[0]\n",
    "print(f\"El numero de filas es: {count_row}\")"
   ]
  },
  {
   "cell_type": "markdown",
   "metadata": {},
   "source": [
    "Missing values"
   ]
  },
  {
   "cell_type": "code",
   "execution_count": 6,
   "metadata": {},
   "outputs": [
    {
     "data": {
      "text/plain": [
       "CRIM       0\n",
       "ZN         0\n",
       "INDUS      0\n",
       "CHAS       0\n",
       "NOX        0\n",
       "RM         0\n",
       "AGE        0\n",
       "DIS        0\n",
       "RAD        0\n",
       "TAX        0\n",
       "PTRATIO    0\n",
       "B          0\n",
       "LSTAT      0\n",
       "MEDV       0\n",
       "dtype: int64"
      ]
     },
     "execution_count": 6,
     "metadata": {},
     "output_type": "execute_result"
    }
   ],
   "source": [
    "boston_df.isnull().sum()\n",
    "#no hay valores nulos"
   ]
  },
  {
   "cell_type": "markdown",
   "metadata": {},
   "source": [
    "# 2. Análisis de los datos (3 puntos)"
   ]
  },
  {
   "cell_type": "markdown",
   "metadata": {},
   "source": [
    "## 2.1 Análisis estadístico básico"
   ]
  },
  {
   "cell_type": "markdown",
   "metadata": {},
   "source": [
    "<div style=\"background-color: #EDF7FF; border-color: #7C9DBF; border-left: 5px solid #7C9DBF; padding: 0.5em;\">\n",
    "<strong>Ejercicio:</strong><br>\n",
    "Realizad un análisis estadístico básico: \n",
    "<br>\n",
    "\n",
    "<ul>\n",
    "  <li>Variables categóricas:</li>\n",
    "     <ul>\n",
    "      <li>Calculad la frecuencia</li>\n",
    "      <li>Haced un gráfico de barras</li>\n",
    "    </ul>\n",
    "  <li>Variables numéricas:</li>\n",
    "    <ul>\n",
    "      <li>Calculad estadísticos descriptivos básicos: media, mediana, desviación estandard, ...</li>\n",
    "      <li>Haced un histograma de las variables INDUS, AGE y MEDV</li>\n",
    "    </ul>\n",
    "</ul>\n",
    "    \n",
    "<hr>\n",
    "Sugerencia: podéis usar la librería 'pandas' y sus funciones 'describe' y 'value_counts', así como las funciones 'bar' e 'hist' de matplotlib.\n",
    "</div>"
   ]
  },
  {
   "cell_type": "code",
   "execution_count": 7,
   "metadata": {},
   "outputs": [
    {
     "data": {
      "image/png": "[encoded data removed]",
      "text/plain": [
       "<Figure size 432x288 with 1 Axes>"
      ]
     },
     "metadata": {
      "needs_background": "light"
     },
     "output_type": "display_data"
    }
   ],
   "source": [
    "boston_df['CHAS'].value_counts().plot.bar(title = \"CHAS frequency plot\")\n",
    "plt.show()"
   ]
  },
  {
   "cell_type": "code",
   "execution_count": 8,
   "metadata": {},
   "outputs": [
    {
     "data": {
      "image/png": "[encoded data removed]",
      "text/plain": [
       "<Figure size 432x288 with 1 Axes>"
      ]
     },
     "metadata": {
      "needs_background": "light"
     },
     "output_type": "display_data"
    }
   ],
   "source": [
    "boston_df['RAD'].value_counts().plot.bar(title = \"RAD frequency plot\")\n",
    "\n",
    "plt.show()"
   ]
  },
  {
   "cell_type": "code",
   "execution_count": 9,
   "metadata": {},
   "outputs": [],
   "source": [
    "bosq_df = boston_df[[\"CRIM\", \"INDUS\", \"CHAS\", \"NOX\", \"RM\", \"AGE\", \"DIS\", \"TAX\", \"PTRATIO\", \"B\", \"LSTAT\"]]\n"
   ]
  },
  {
   "cell_type": "code",
   "execution_count": 10,
   "metadata": {},
   "outputs": [
    {
     "data": {
      "text/html": [
       "<div>\n",
       "<style scoped>\n",
       "    .dataframe tbody tr th:only-of-type {\n",
       "        vertical-align: middle;\n",
       "    }\n",
       "\n",
       "    .dataframe tbody tr th {\n",
       "        vertical-align: top;\n",
       "    }\n",
       "\n",
       "    .dataframe thead th {\n",
       "        text-align: right;\n",
       "    }\n",
       "</style>\n",
       "<table border=\"1\" class=\"dataframe\">\n",
       "  <thead>\n",
       "    <tr style=\"text-align: right;\">\n",
       "      <th></th>\n",
       "      <th>CRIM</th>\n",
       "      <th>INDUS</th>\n",
       "      <th>CHAS</th>\n",
       "      <th>NOX</th>\n",
       "      <th>RM</th>\n",
       "      <th>AGE</th>\n",
       "      <th>DIS</th>\n",
       "      <th>TAX</th>\n",
       "      <th>PTRATIO</th>\n",
       "      <th>B</th>\n",
       "      <th>LSTAT</th>\n",
       "    </tr>\n",
       "  </thead>\n",
       "  <tbody>\n",
       "    <tr>\n",
       "      <td>count</td>\n",
       "      <td>506.000000</td>\n",
       "      <td>506.000000</td>\n",
       "      <td>506.000000</td>\n",
       "      <td>506.000000</td>\n",
       "      <td>506.000000</td>\n",
       "      <td>506.000000</td>\n",
       "      <td>506.000000</td>\n",
       "      <td>506.000000</td>\n",
       "      <td>506.000000</td>\n",
       "      <td>506.000000</td>\n",
       "      <td>506.000000</td>\n",
       "    </tr>\n",
       "    <tr>\n",
       "      <td>mean</td>\n",
       "      <td>3.613524</td>\n",
       "      <td>11.136779</td>\n",
       "      <td>0.069170</td>\n",
       "      <td>0.554695</td>\n",
       "      <td>6.284634</td>\n",
       "      <td>68.574901</td>\n",
       "      <td>3.795043</td>\n",
       "      <td>408.237154</td>\n",
       "      <td>18.455534</td>\n",
       "      <td>356.674032</td>\n",
       "      <td>12.653063</td>\n",
       "    </tr>\n",
       "    <tr>\n",
       "      <td>std</td>\n",
       "      <td>8.601545</td>\n",
       "      <td>6.860353</td>\n",
       "      <td>0.253994</td>\n",
       "      <td>0.115878</td>\n",
       "      <td>0.702617</td>\n",
       "      <td>28.148861</td>\n",
       "      <td>2.105710</td>\n",
       "      <td>168.537116</td>\n",
       "      <td>2.164946</td>\n",
       "      <td>91.294864</td>\n",
       "      <td>7.141062</td>\n",
       "    </tr>\n",
       "    <tr>\n",
       "      <td>min</td>\n",
       "      <td>0.006320</td>\n",
       "      <td>0.460000</td>\n",
       "      <td>0.000000</td>\n",
       "      <td>0.385000</td>\n",
       "      <td>3.561000</td>\n",
       "      <td>2.900000</td>\n",
       "      <td>1.129600</td>\n",
       "      <td>187.000000</td>\n",
       "      <td>12.600000</td>\n",
       "      <td>0.320000</td>\n",
       "      <td>1.730000</td>\n",
       "    </tr>\n",
       "    <tr>\n",
       "      <td>25%</td>\n",
       "      <td>0.082045</td>\n",
       "      <td>5.190000</td>\n",
       "      <td>0.000000</td>\n",
       "      <td>0.449000</td>\n",
       "      <td>5.885500</td>\n",
       "      <td>45.025000</td>\n",
       "      <td>2.100175</td>\n",
       "      <td>279.000000</td>\n",
       "      <td>17.400000</td>\n",
       "      <td>375.377500</td>\n",
       "      <td>6.950000</td>\n",
       "    </tr>\n",
       "    <tr>\n",
       "      <td>50%</td>\n",
       "      <td>0.256510</td>\n",
       "      <td>9.690000</td>\n",
       "      <td>0.000000</td>\n",
       "      <td>0.538000</td>\n",
       "      <td>6.208500</td>\n",
       "      <td>77.500000</td>\n",
       "      <td>3.207450</td>\n",
       "      <td>330.000000</td>\n",
       "      <td>19.050000</td>\n",
       "      <td>391.440000</td>\n",
       "      <td>11.360000</td>\n",
       "    </tr>\n",
       "    <tr>\n",
       "      <td>75%</td>\n",
       "      <td>3.677083</td>\n",
       "      <td>18.100000</td>\n",
       "      <td>0.000000</td>\n",
       "      <td>0.624000</td>\n",
       "      <td>6.623500</td>\n",
       "      <td>94.075000</td>\n",
       "      <td>5.188425</td>\n",
       "      <td>666.000000</td>\n",
       "      <td>20.200000</td>\n",
       "      <td>396.225000</td>\n",
       "      <td>16.955000</td>\n",
       "    </tr>\n",
       "    <tr>\n",
       "      <td>max</td>\n",
       "      <td>88.976200</td>\n",
       "      <td>27.740000</td>\n",
       "      <td>1.000000</td>\n",
       "      <td>0.871000</td>\n",
       "      <td>8.780000</td>\n",
       "      <td>100.000000</td>\n",
       "      <td>12.126500</td>\n",
       "      <td>711.000000</td>\n",
       "      <td>22.000000</td>\n",
       "      <td>396.900000</td>\n",
       "      <td>37.970000</td>\n",
       "    </tr>\n",
       "  </tbody>\n",
       "</table>\n",
       "</div>"
      ],
      "text/plain": [
       "             CRIM       INDUS        CHAS         NOX          RM         AGE  \\\n",
       "count  506.000000  506.000000  506.000000  506.000000  506.000000  506.000000   \n",
       "mean     3.613524   11.136779    0.069170    0.554695    6.284634   68.574901   \n",
       "std      8.601545    6.860353    0.253994    0.115878    0.702617   28.148861   \n",
       "min      0.006320    0.460000    0.000000    0.385000    3.561000    2.900000   \n",
       "25%      0.082045    5.190000    0.000000    0.449000    5.885500   45.025000   \n",
       "50%      0.256510    9.690000    0.000000    0.538000    6.208500   77.500000   \n",
       "75%      3.677083   18.100000    0.000000    0.624000    6.623500   94.075000   \n",
       "max     88.976200   27.740000    1.000000    0.871000    8.780000  100.000000   \n",
       "\n",
       "              DIS         TAX     PTRATIO           B       LSTAT  \n",
       "count  506.000000  506.000000  506.000000  506.000000  506.000000  \n",
       "mean     3.795043  408.237154   18.455534  356.674032   12.653063  \n",
       "std      2.105710  168.537116    2.164946   91.294864    7.141062  \n",
       "min      1.129600  187.000000   12.600000    0.320000    1.730000  \n",
       "25%      2.100175  279.000000   17.400000  375.377500    6.950000  \n",
       "50%      3.207450  330.000000   19.050000  391.440000   11.360000  \n",
       "75%      5.188425  666.000000   20.200000  396.225000   16.955000  \n",
       "max     12.126500  711.000000   22.000000  396.900000   37.970000  "
      ]
     },
     "execution_count": 10,
     "metadata": {},
     "output_type": "execute_result"
    }
   ],
   "source": [
    "bosq_df.describe()"
   ]
  },
  {
   "cell_type": "code",
   "execution_count": 11,
   "metadata": {},
   "outputs": [
    {
     "data": {
      "text/plain": [
       "CRIM         0.25651\n",
       "INDUS        9.69000\n",
       "CHAS         0.00000\n",
       "NOX          0.53800\n",
       "RM           6.20850\n",
       "AGE         77.50000\n",
       "DIS          3.20745\n",
       "TAX        330.00000\n",
       "PTRATIO     19.05000\n",
       "B          391.44000\n",
       "LSTAT       11.36000\n",
       "dtype: float64"
      ]
     },
     "execution_count": 11,
     "metadata": {},
     "output_type": "execute_result"
    }
   ],
   "source": [
    "bosq_df.median()"
   ]
  },
  {
   "cell_type": "markdown",
   "metadata": {},
   "source": [
    "<div style=\"background-color: #EDF7FF; border-color: #7C9DBF; border-left: 5px solid #7C9DBF; padding: 0.5em;\">\n",
    "<strong>Análisis:</strong><br>\n",
    "Comentad los resultados.\n",
    "</div>"
   ]
  },
  {
   "cell_type": "markdown",
   "metadata": {},
   "source": [
    "Es complicado realizar una comparación entre los resultados, ya que se puede observar en los valores de media y mediana que los valores están comprendidos en rangos dispares. Para poder realizar una comparación de la dispersión de los datos, los percentiles y/o los valores máximos y mínimos para analizar los outliers habría que normalizar los valores. "
   ]
  },
  {
   "cell_type": "code",
   "execution_count": 12,
   "metadata": {},
   "outputs": [
    {
     "data": {
      "text/html": [
       "<div>\n",
       "<style scoped>\n",
       "    .dataframe tbody tr th:only-of-type {\n",
       "        vertical-align: middle;\n",
       "    }\n",
       "\n",
       "    .dataframe tbody tr th {\n",
       "        vertical-align: top;\n",
       "    }\n",
       "\n",
       "    .dataframe thead th {\n",
       "        text-align: right;\n",
       "    }\n",
       "</style>\n",
       "<table border=\"1\" class=\"dataframe\">\n",
       "  <thead>\n",
       "    <tr style=\"text-align: right;\">\n",
       "      <th></th>\n",
       "      <th>CRIM</th>\n",
       "      <th>INDUS</th>\n",
       "      <th>CHAS</th>\n",
       "      <th>NOX</th>\n",
       "      <th>RM</th>\n",
       "      <th>AGE</th>\n",
       "      <th>DIS</th>\n",
       "      <th>TAX</th>\n",
       "      <th>PTRATIO</th>\n",
       "      <th>B</th>\n",
       "      <th>LSTAT</th>\n",
       "    </tr>\n",
       "  </thead>\n",
       "  <tbody>\n",
       "    <tr>\n",
       "      <td>0</td>\n",
       "      <td>0.000000</td>\n",
       "      <td>0.067815</td>\n",
       "      <td>0.0</td>\n",
       "      <td>0.314815</td>\n",
       "      <td>0.577505</td>\n",
       "      <td>0.641607</td>\n",
       "      <td>0.269203</td>\n",
       "      <td>0.208015</td>\n",
       "      <td>0.287234</td>\n",
       "      <td>1.000000</td>\n",
       "      <td>0.089680</td>\n",
       "    </tr>\n",
       "    <tr>\n",
       "      <td>1</td>\n",
       "      <td>0.000236</td>\n",
       "      <td>0.242302</td>\n",
       "      <td>0.0</td>\n",
       "      <td>0.172840</td>\n",
       "      <td>0.547998</td>\n",
       "      <td>0.782698</td>\n",
       "      <td>0.348962</td>\n",
       "      <td>0.104962</td>\n",
       "      <td>0.553191</td>\n",
       "      <td>1.000000</td>\n",
       "      <td>0.204470</td>\n",
       "    </tr>\n",
       "    <tr>\n",
       "      <td>2</td>\n",
       "      <td>0.000236</td>\n",
       "      <td>0.242302</td>\n",
       "      <td>0.0</td>\n",
       "      <td>0.172840</td>\n",
       "      <td>0.694386</td>\n",
       "      <td>0.599382</td>\n",
       "      <td>0.348962</td>\n",
       "      <td>0.104962</td>\n",
       "      <td>0.553191</td>\n",
       "      <td>0.989737</td>\n",
       "      <td>0.063466</td>\n",
       "    </tr>\n",
       "    <tr>\n",
       "      <td>3</td>\n",
       "      <td>0.000293</td>\n",
       "      <td>0.063050</td>\n",
       "      <td>0.0</td>\n",
       "      <td>0.150206</td>\n",
       "      <td>0.658555</td>\n",
       "      <td>0.441813</td>\n",
       "      <td>0.448545</td>\n",
       "      <td>0.066794</td>\n",
       "      <td>0.648936</td>\n",
       "      <td>0.994276</td>\n",
       "      <td>0.033389</td>\n",
       "    </tr>\n",
       "    <tr>\n",
       "      <td>4</td>\n",
       "      <td>0.000705</td>\n",
       "      <td>0.063050</td>\n",
       "      <td>0.0</td>\n",
       "      <td>0.150206</td>\n",
       "      <td>0.687105</td>\n",
       "      <td>0.528321</td>\n",
       "      <td>0.448545</td>\n",
       "      <td>0.066794</td>\n",
       "      <td>0.648936</td>\n",
       "      <td>1.000000</td>\n",
       "      <td>0.099338</td>\n",
       "    </tr>\n",
       "  </tbody>\n",
       "</table>\n",
       "</div>"
      ],
      "text/plain": [
       "       CRIM     INDUS  CHAS       NOX        RM       AGE       DIS       TAX  \\\n",
       "0  0.000000  0.067815   0.0  0.314815  0.577505  0.641607  0.269203  0.208015   \n",
       "1  0.000236  0.242302   0.0  0.172840  0.547998  0.782698  0.348962  0.104962   \n",
       "2  0.000236  0.242302   0.0  0.172840  0.694386  0.599382  0.348962  0.104962   \n",
       "3  0.000293  0.063050   0.0  0.150206  0.658555  0.441813  0.448545  0.066794   \n",
       "4  0.000705  0.063050   0.0  0.150206  0.687105  0.528321  0.448545  0.066794   \n",
       "\n",
       "    PTRATIO         B     LSTAT  \n",
       "0  0.287234  1.000000  0.089680  \n",
       "1  0.553191  1.000000  0.204470  \n",
       "2  0.553191  0.989737  0.063466  \n",
       "3  0.648936  0.994276  0.033389  \n",
       "4  0.648936  1.000000  0.099338  "
      ]
     },
     "execution_count": 12,
     "metadata": {},
     "output_type": "execute_result"
    }
   ],
   "source": [
    "x = bosq_df.values #returns a numpy array\n",
    "min_max_scaler = preprocessing.MinMaxScaler()\n",
    "x_scaled = min_max_scaler.fit_transform(x)\n",
    "df_normalized = pd.DataFrame(x_scaled)\n",
    "\n",
    "df_normalized.rename(columns = {0:'CRIM',1:'INDUS',2:'CHAS',3:'NOX',4:'RM', 5:'AGE', 6:'DIS',7:'TAX',8:'PTRATIO',9:'B',10:'LSTAT'}, inplace = True) \n",
    "df_normalized.head()"
   ]
  },
  {
   "cell_type": "code",
   "execution_count": 13,
   "metadata": {
    "scrolled": true
   },
   "outputs": [
    {
     "data": {
      "text/html": [
       "<div>\n",
       "<style scoped>\n",
       "    .dataframe tbody tr th:only-of-type {\n",
       "        vertical-align: middle;\n",
       "    }\n",
       "\n",
       "    .dataframe tbody tr th {\n",
       "        vertical-align: top;\n",
       "    }\n",
       "\n",
       "    .dataframe thead th {\n",
       "        text-align: right;\n",
       "    }\n",
       "</style>\n",
       "<table border=\"1\" class=\"dataframe\">\n",
       "  <thead>\n",
       "    <tr style=\"text-align: right;\">\n",
       "      <th></th>\n",
       "      <th>CRIM</th>\n",
       "      <th>INDUS</th>\n",
       "      <th>CHAS</th>\n",
       "      <th>NOX</th>\n",
       "      <th>RM</th>\n",
       "      <th>AGE</th>\n",
       "      <th>DIS</th>\n",
       "      <th>TAX</th>\n",
       "      <th>PTRATIO</th>\n",
       "      <th>B</th>\n",
       "      <th>LSTAT</th>\n",
       "    </tr>\n",
       "  </thead>\n",
       "  <tbody>\n",
       "    <tr>\n",
       "      <td>count</td>\n",
       "      <td>506.000000</td>\n",
       "      <td>506.000000</td>\n",
       "      <td>506.000000</td>\n",
       "      <td>506.000000</td>\n",
       "      <td>506.000000</td>\n",
       "      <td>506.000000</td>\n",
       "      <td>506.000000</td>\n",
       "      <td>506.000000</td>\n",
       "      <td>506.000000</td>\n",
       "      <td>506.000000</td>\n",
       "      <td>506.000000</td>\n",
       "    </tr>\n",
       "    <tr>\n",
       "      <td>mean</td>\n",
       "      <td>0.040544</td>\n",
       "      <td>0.391378</td>\n",
       "      <td>0.069170</td>\n",
       "      <td>0.349167</td>\n",
       "      <td>0.521869</td>\n",
       "      <td>0.676364</td>\n",
       "      <td>0.242381</td>\n",
       "      <td>0.422208</td>\n",
       "      <td>0.622929</td>\n",
       "      <td>0.898568</td>\n",
       "      <td>0.301409</td>\n",
       "    </tr>\n",
       "    <tr>\n",
       "      <td>std</td>\n",
       "      <td>0.096679</td>\n",
       "      <td>0.251479</td>\n",
       "      <td>0.253994</td>\n",
       "      <td>0.238431</td>\n",
       "      <td>0.134627</td>\n",
       "      <td>0.289896</td>\n",
       "      <td>0.191482</td>\n",
       "      <td>0.321636</td>\n",
       "      <td>0.230313</td>\n",
       "      <td>0.230205</td>\n",
       "      <td>0.197049</td>\n",
       "    </tr>\n",
       "    <tr>\n",
       "      <td>min</td>\n",
       "      <td>0.000000</td>\n",
       "      <td>0.000000</td>\n",
       "      <td>0.000000</td>\n",
       "      <td>0.000000</td>\n",
       "      <td>0.000000</td>\n",
       "      <td>0.000000</td>\n",
       "      <td>0.000000</td>\n",
       "      <td>0.000000</td>\n",
       "      <td>0.000000</td>\n",
       "      <td>0.000000</td>\n",
       "      <td>0.000000</td>\n",
       "    </tr>\n",
       "    <tr>\n",
       "      <td>25%</td>\n",
       "      <td>0.000851</td>\n",
       "      <td>0.173387</td>\n",
       "      <td>0.000000</td>\n",
       "      <td>0.131687</td>\n",
       "      <td>0.445392</td>\n",
       "      <td>0.433831</td>\n",
       "      <td>0.088259</td>\n",
       "      <td>0.175573</td>\n",
       "      <td>0.510638</td>\n",
       "      <td>0.945730</td>\n",
       "      <td>0.144040</td>\n",
       "    </tr>\n",
       "    <tr>\n",
       "      <td>50%</td>\n",
       "      <td>0.002812</td>\n",
       "      <td>0.338343</td>\n",
       "      <td>0.000000</td>\n",
       "      <td>0.314815</td>\n",
       "      <td>0.507281</td>\n",
       "      <td>0.768280</td>\n",
       "      <td>0.188949</td>\n",
       "      <td>0.272901</td>\n",
       "      <td>0.686170</td>\n",
       "      <td>0.986232</td>\n",
       "      <td>0.265728</td>\n",
       "    </tr>\n",
       "    <tr>\n",
       "      <td>75%</td>\n",
       "      <td>0.041258</td>\n",
       "      <td>0.646628</td>\n",
       "      <td>0.000000</td>\n",
       "      <td>0.491770</td>\n",
       "      <td>0.586798</td>\n",
       "      <td>0.938980</td>\n",
       "      <td>0.369088</td>\n",
       "      <td>0.914122</td>\n",
       "      <td>0.808511</td>\n",
       "      <td>0.998298</td>\n",
       "      <td>0.420116</td>\n",
       "    </tr>\n",
       "    <tr>\n",
       "      <td>max</td>\n",
       "      <td>1.000000</td>\n",
       "      <td>1.000000</td>\n",
       "      <td>1.000000</td>\n",
       "      <td>1.000000</td>\n",
       "      <td>1.000000</td>\n",
       "      <td>1.000000</td>\n",
       "      <td>1.000000</td>\n",
       "      <td>1.000000</td>\n",
       "      <td>1.000000</td>\n",
       "      <td>1.000000</td>\n",
       "      <td>1.000000</td>\n",
       "    </tr>\n",
       "  </tbody>\n",
       "</table>\n",
       "</div>"
      ],
      "text/plain": [
       "             CRIM       INDUS        CHAS         NOX          RM         AGE  \\\n",
       "count  506.000000  506.000000  506.000000  506.000000  506.000000  506.000000   \n",
       "mean     0.040544    0.391378    0.069170    0.349167    0.521869    0.676364   \n",
       "std      0.096679    0.251479    0.253994    0.238431    0.134627    0.289896   \n",
       "min      0.000000    0.000000    0.000000    0.000000    0.000000    0.000000   \n",
       "25%      0.000851    0.173387    0.000000    0.131687    0.445392    0.433831   \n",
       "50%      0.002812    0.338343    0.000000    0.314815    0.507281    0.768280   \n",
       "75%      0.041258    0.646628    0.000000    0.491770    0.586798    0.938980   \n",
       "max      1.000000    1.000000    1.000000    1.000000    1.000000    1.000000   \n",
       "\n",
       "              DIS         TAX     PTRATIO           B       LSTAT  \n",
       "count  506.000000  506.000000  506.000000  506.000000  506.000000  \n",
       "mean     0.242381    0.422208    0.622929    0.898568    0.301409  \n",
       "std      0.191482    0.321636    0.230313    0.230205    0.197049  \n",
       "min      0.000000    0.000000    0.000000    0.000000    0.000000  \n",
       "25%      0.088259    0.175573    0.510638    0.945730    0.144040  \n",
       "50%      0.188949    0.272901    0.686170    0.986232    0.265728  \n",
       "75%      0.369088    0.914122    0.808511    0.998298    0.420116  \n",
       "max      1.000000    1.000000    1.000000    1.000000    1.000000  "
      ]
     },
     "execution_count": 13,
     "metadata": {},
     "output_type": "execute_result"
    }
   ],
   "source": [
    "df_normalized.describe()"
   ]
  },
  {
   "cell_type": "code",
   "execution_count": 14,
   "metadata": {
    "scrolled": true
   },
   "outputs": [
    {
     "data": {
      "text/plain": [
       "CRIM       0.002812\n",
       "INDUS      0.338343\n",
       "CHAS       0.000000\n",
       "NOX        0.314815\n",
       "RM         0.507281\n",
       "AGE        0.768280\n",
       "DIS        0.188949\n",
       "TAX        0.272901\n",
       "PTRATIO    0.686170\n",
       "B          0.986232\n",
       "LSTAT      0.265728\n",
       "dtype: float64"
      ]
     },
     "execution_count": 14,
     "metadata": {},
     "output_type": "execute_result"
    }
   ],
   "source": [
    "df_normalized.median()"
   ]
  },
  {
   "cell_type": "markdown",
   "metadata": {},
   "source": [
    "Desviación estandard: Se observa que la dispersión de los datos es homogénea, ya que deja a todos las variables con el mismo número de cifras significativas. "
   ]
  },
  {
   "cell_type": "code",
   "execution_count": 15,
   "metadata": {},
   "outputs": [
    {
     "data": {
      "image/png": "[encoded data removed]",
      "text/plain": [
       "<Figure size 432x288 with 1 Axes>"
      ]
     },
     "metadata": {
      "needs_background": "light"
     },
     "output_type": "display_data"
    }
   ],
   "source": [
    "sns.boxplot(x=\"variable\", y=\"value\", data=pd.melt(df_normalized))\n",
    "plt.show()"
   ]
  },
  {
   "cell_type": "markdown",
   "metadata": {},
   "source": [
    "Hay que realizar un análisis inferencial para poder entender el papel de los outliers que se pueden observar en el análisis preliminar de los boxplots. Se observa que los datos con más outliers tienen una desviación significativa entre la media y la mediana. \n",
    "\n",
    "variables: \n",
    "\n",
    "CRIM: per capita crime rate by town\n",
    "\n",
    "La media de crimenes en la ciudad de boston no está uniformemente distribuida. Hay que acotarla mediante subsectores. \n",
    "\n",
    "\n",
    "RM: average number of rooms per dwelling\n",
    "\n",
    "Se observa una distribución heterogenea del núnmero de habitaciones por vivienda en la ciudad. \n",
    "\n",
    "\n",
    "B: 1000(Bk - 0.63)^2 where Bk is the proportion of blacks by town \n",
    "\n",
    "En este caso, la media y la mediana son próximas entre si, y eso nos dice que la mayoria de valores se encuentran entre 0,9 y 1. Se observa que existen muchos puntos outliers distribuidos en todo el rango de valores. El valor de B es directamente proporcional a Bk, que es la proporción de personas negras por barrio. Bk está elevado al cuadrado, lo que hace que aumente su significancia en el impacto sobre el valor final de B, y . Las proporciones iguales a 0,63 darán valores de 0. Los valores de Bk entre 1 y 0,63 son aquellos que representan proporciones altas de personas negras. El impacto más alto en B de una población de personas negras puede ser 1000*(1-0,63)^2 = 1300. En cambio, una población de personas mayoritariamente no negras será 1000*(0-0,63)^2 = 3969.\n",
    "\n",
    "Una media alta indica una proporción elevada de personas blancas, pero una distribución uniforme de outliers indica que la presencia de población de personas negras está segregada. \n"
   ]
  },
  {
   "cell_type": "markdown",
   "metadata": {},
   "source": [
    "## 2.2 Análisis exploratorio de los datos"
   ]
  },
  {
   "cell_type": "markdown",
   "metadata": {},
   "source": [
    "En este ejercicio exploraremos la relación de los atributos con la variable respuesta, mediante gráficos y analizando las correlaciones de los atributos numéricos."
   ]
  },
  {
   "cell_type": "code",
   "execution_count": 16,
   "metadata": {},
   "outputs": [
    {
     "name": "stdout",
     "output_type": "stream",
     "text": [
      "Respuesta (\"target\"): MEDV\n",
      "Atributo categórico: CHAS\n",
      "Atributos numéricos: ['CRIM', 'ZN', 'INDUS', 'NOX', 'RM', 'AGE', 'DIS', 'RAD', 'TAX', 'PTRATIO', 'B', 'LSTAT']\n"
     ]
    }
   ],
   "source": [
    "response = \"MEDV\"\n",
    "cat_feat = \"CHAS\"\n",
    "num_feats = ['CRIM', 'ZN', 'INDUS', 'NOX', 'RM', 'AGE', 'DIS', 'RAD', 'TAX', 'PTRATIO', 'B', 'LSTAT']\n",
    "print('Respuesta (\"target\"):', response)\n",
    "print(\"Atributo categórico:\", cat_feat)\n",
    "print(\"Atributos numéricos:\", num_feats)"
   ]
  },
  {
   "cell_type": "markdown",
   "metadata": {},
   "source": [
    "<div style=\"background-color: #EDF7FF; border-color: #7C9DBF; border-left: 5px solid #7C9DBF; padding: 0.5em;\">\n",
    "<strong>Ejercicio:</strong><br>\n",
    "Realizad un gráfico del histograma de valores de la variable respuesta, separado por los posibles valores (clases) del atributo categórico. Para comparar mejor los valores de MEDV para las diferentes clases de CHAS, los histogramas del gráfico tienen que estar sobrepuestos. Añadid una leyenda para saber a qué clase corresponde cada histograma.\n",
    "    \n",
    "La finalidad es observar como se distribuye el valor de la respuesta MEDV en función del valor de la clase CHAS, para poder identificar de manera visual y rápida si este atributo categórico está relacionado con diferentes valores de la respuesta.\n",
    "    \n",
    "<hr>\n",
    "Sugerencia: podéis usar la función \"hist\" de la librería \"matplotlib\", así como su parámetro \"alpha\" para que se aprecien los histogramas sobrepuestos.<br>\n",
    "Sugerencia: para comparar mejor los histogramas, considerad representar la densidad de probabilidad en vez del número de entradas por bin. De este modo, la escala de los histogramas será la misma para cada clase y será fácil de comparar. Podéis usar el parámetro \"density\" de la misma función \"hist\".  \n",
    "</div>"
   ]
  },
  {
   "cell_type": "code",
   "execution_count": 17,
   "metadata": {
    "scrolled": true
   },
   "outputs": [
    {
     "data": {
      "text/html": [
       "<div>\n",
       "<style scoped>\n",
       "    .dataframe tbody tr th:only-of-type {\n",
       "        vertical-align: middle;\n",
       "    }\n",
       "\n",
       "    .dataframe tbody tr th {\n",
       "        vertical-align: top;\n",
       "    }\n",
       "\n",
       "    .dataframe thead th {\n",
       "        text-align: right;\n",
       "    }\n",
       "</style>\n",
       "<table border=\"1\" class=\"dataframe\">\n",
       "  <thead>\n",
       "    <tr style=\"text-align: right;\">\n",
       "      <th></th>\n",
       "      <th>CRIM</th>\n",
       "      <th>ZN</th>\n",
       "      <th>INDUS</th>\n",
       "      <th>CHAS</th>\n",
       "      <th>NOX</th>\n",
       "      <th>RM</th>\n",
       "      <th>AGE</th>\n",
       "      <th>DIS</th>\n",
       "      <th>RAD</th>\n",
       "      <th>TAX</th>\n",
       "      <th>PTRATIO</th>\n",
       "      <th>B</th>\n",
       "      <th>LSTAT</th>\n",
       "      <th>MEDV</th>\n",
       "    </tr>\n",
       "  </thead>\n",
       "  <tbody>\n",
       "    <tr>\n",
       "      <td>0</td>\n",
       "      <td>0.00632</td>\n",
       "      <td>18.0</td>\n",
       "      <td>2.31</td>\n",
       "      <td>0.0</td>\n",
       "      <td>0.538</td>\n",
       "      <td>6.575</td>\n",
       "      <td>65.2</td>\n",
       "      <td>4.0900</td>\n",
       "      <td>1.0</td>\n",
       "      <td>296.0</td>\n",
       "      <td>15.3</td>\n",
       "      <td>396.90</td>\n",
       "      <td>4.98</td>\n",
       "      <td>24.0</td>\n",
       "    </tr>\n",
       "    <tr>\n",
       "      <td>1</td>\n",
       "      <td>0.02731</td>\n",
       "      <td>0.0</td>\n",
       "      <td>7.07</td>\n",
       "      <td>0.0</td>\n",
       "      <td>0.469</td>\n",
       "      <td>6.421</td>\n",
       "      <td>78.9</td>\n",
       "      <td>4.9671</td>\n",
       "      <td>2.0</td>\n",
       "      <td>242.0</td>\n",
       "      <td>17.8</td>\n",
       "      <td>396.90</td>\n",
       "      <td>9.14</td>\n",
       "      <td>21.6</td>\n",
       "    </tr>\n",
       "    <tr>\n",
       "      <td>2</td>\n",
       "      <td>0.02729</td>\n",
       "      <td>0.0</td>\n",
       "      <td>7.07</td>\n",
       "      <td>0.0</td>\n",
       "      <td>0.469</td>\n",
       "      <td>7.185</td>\n",
       "      <td>61.1</td>\n",
       "      <td>4.9671</td>\n",
       "      <td>2.0</td>\n",
       "      <td>242.0</td>\n",
       "      <td>17.8</td>\n",
       "      <td>392.83</td>\n",
       "      <td>4.03</td>\n",
       "      <td>34.7</td>\n",
       "    </tr>\n",
       "    <tr>\n",
       "      <td>3</td>\n",
       "      <td>0.03237</td>\n",
       "      <td>0.0</td>\n",
       "      <td>2.18</td>\n",
       "      <td>0.0</td>\n",
       "      <td>0.458</td>\n",
       "      <td>6.998</td>\n",
       "      <td>45.8</td>\n",
       "      <td>6.0622</td>\n",
       "      <td>3.0</td>\n",
       "      <td>222.0</td>\n",
       "      <td>18.7</td>\n",
       "      <td>394.63</td>\n",
       "      <td>2.94</td>\n",
       "      <td>33.4</td>\n",
       "    </tr>\n",
       "    <tr>\n",
       "      <td>4</td>\n",
       "      <td>0.06905</td>\n",
       "      <td>0.0</td>\n",
       "      <td>2.18</td>\n",
       "      <td>0.0</td>\n",
       "      <td>0.458</td>\n",
       "      <td>7.147</td>\n",
       "      <td>54.2</td>\n",
       "      <td>6.0622</td>\n",
       "      <td>3.0</td>\n",
       "      <td>222.0</td>\n",
       "      <td>18.7</td>\n",
       "      <td>396.90</td>\n",
       "      <td>5.33</td>\n",
       "      <td>36.2</td>\n",
       "    </tr>\n",
       "  </tbody>\n",
       "</table>\n",
       "</div>"
      ],
      "text/plain": [
       "      CRIM    ZN  INDUS  CHAS    NOX     RM   AGE     DIS  RAD    TAX  \\\n",
       "0  0.00632  18.0   2.31   0.0  0.538  6.575  65.2  4.0900  1.0  296.0   \n",
       "1  0.02731   0.0   7.07   0.0  0.469  6.421  78.9  4.9671  2.0  242.0   \n",
       "2  0.02729   0.0   7.07   0.0  0.469  7.185  61.1  4.9671  2.0  242.0   \n",
       "3  0.03237   0.0   2.18   0.0  0.458  6.998  45.8  6.0622  3.0  222.0   \n",
       "4  0.06905   0.0   2.18   0.0  0.458  7.147  54.2  6.0622  3.0  222.0   \n",
       "\n",
       "   PTRATIO       B  LSTAT  MEDV  \n",
       "0     15.3  396.90   4.98  24.0  \n",
       "1     17.8  396.90   9.14  21.6  \n",
       "2     17.8  392.83   4.03  34.7  \n",
       "3     18.7  394.63   2.94  33.4  \n",
       "4     18.7  396.90   5.33  36.2  "
      ]
     },
     "execution_count": 17,
     "metadata": {},
     "output_type": "execute_result"
    }
   ],
   "source": [
    "boston_df['MEDV'] = boston_houseprices.target\n",
    "boston_df.head()"
   ]
  },
  {
   "cell_type": "code",
   "execution_count": 18,
   "metadata": {},
   "outputs": [
    {
     "data": {
      "image/png": "[encoded data removed]",
      "text/plain": [
       "<Figure size 432x288 with 1 Axes>"
      ]
     },
     "metadata": {
      "needs_background": "light"
     },
     "output_type": "display_data"
    }
   ],
   "source": [
    "medv = boston_df[\"MEDV\"]\n",
    "plt.hist(medv, alpha = 1, width = 3, color = \"tan\")\n",
    "plt.title(\"Histograma de MEDV respecto a todos los valores de CHAS\")\n",
    "plt.xlabel(\"Magnitude\")\n",
    "plt.ylabel(\"Frequency\")\n",
    "plt.show()"
   ]
  },
  {
   "cell_type": "code",
   "execution_count": 19,
   "metadata": {},
   "outputs": [
    {
     "data": {
      "image/png": "[encoded data removed]",
      "text/plain": [
       "<Figure size 432x288 with 1 Axes>"
      ]
     },
     "metadata": {
      "needs_background": "light"
     },
     "output_type": "display_data"
    }
   ],
   "source": [
    "condition_0 = (boston_df[\"CHAS\"] == 0)\n",
    "condition_1 = (boston_df[\"CHAS\"] == 1)\n",
    "bos_chas_0 = boston_df[condition_0]\n",
    "bos_chas_1 = boston_df[condition_1]\n",
    "\n",
    "chas_0 = bos_chas_0[\"MEDV\"]\n",
    "chas_1 = bos_chas_1[\"MEDV\"]\n",
    "\n",
    "\n",
    "plt.hist(chas_0, alpha = 0.5, width = 3, color = \"forestgreen\")\n",
    "plt.hist(chas_1, alpha = 0.5, width = 3, color = \"slateblue\")\n",
    "plt.title(\"Histograma de MEDV respecto a CHAS = 0 y CHAS = 1\")\n",
    "plt.xlabel(\"Magnitude\")\n",
    "plt.ylabel(\"Frequency\")\n",
    "plt.legend(['CHAS=0','CHAS=1'])\n",
    "plt.show()"
   ]
  },
  {
   "cell_type": "markdown",
   "metadata": {},
   "source": [
    "<div style=\"background-color: #EDF7FF; border-color: #7C9DBF; border-left: 5px solid #7C9DBF; padding: 0.5em;\">\n",
    "<strong>Análisis:</strong>\n",
    "<br> Mirando los histogramas, ¿te parece que el atributo CHAS tendrá algún peso a la hora de predecir la mediana del precio de las casas, MEDV? ¿Porqué? \n",
    "</div>"
   ]
  },
  {
   "cell_type": "markdown",
   "metadata": {},
   "source": [
    "La frecuencia de la variable MEDV cuando CHAS = 0 tienes significativamente más ocurrencia que cuando CHAS = 1. La variable CHAS describe si la vivienda se encuentra limítrofe con el rio Charles. Si CHAS=0, la vivienda limita con el rio. En el análisis preliminar se puede observar que la vivienda limite con el rio es muy probable que tenga peso a la hora de predecir el precio de una nueva vivienda. \n",
    "\n",
    "Al observar la distribución de los datos MEDV vs CHAS=0, es claro que este parámetro influirá en la mediana del precio de las casas, ya que en el aprendizaje del algoritmo la mayoria de precios se encuentran entre 15 y 25. \n",
    "\n"
   ]
  },
  {
   "cell_type": "markdown",
   "metadata": {},
   "source": [
    "<div style=\"background-color: #EDF7FF; border-color: #7C9DBF; border-left: 5px solid #7C9DBF; padding: 0.5em;\">\n",
    "<strong>Ejercicio:</strong><br>\n",
    "Repetid los histogramas anteriores, añadiendo una línea vertical indicando la media de cada uno de los histogramas. Pintad las linias del mismo color que el histograma para que quede claro a cual hacen referencia. Añadid a la leyenda la clase de CHAS y los valores de la media y la desviación estandard en cuestión. La finalidad es verificar numéricamente las diferencias identificadas anteriormente de forma visual.\n",
    "    \n",
    "<hr>\n",
    "Sugerencia: podeis usar \"axvline\", de matplotlib axis, para las linias verticales.\n",
    "</div>"
   ]
  },
  {
   "cell_type": "code",
   "execution_count": 20,
   "metadata": {},
   "outputs": [
    {
     "name": "stdout",
     "output_type": "stream",
     "text": [
      "22.532806324110698\n"
     ]
    },
    {
     "data": {
      "image/png": "[encoded data removed]",
      "text/plain": [
       "<Figure size 432x288 with 1 Axes>"
      ]
     },
     "metadata": {
      "needs_background": "light"
     },
     "output_type": "display_data"
    }
   ],
   "source": [
    "plt.hist(medv, alpha = 1, width = 3, color = \"tan\")\n",
    "\n",
    "mean_medv = boston_df[\"MEDV\"].mean()\n",
    "print(mean_medv)\n",
    "plt.axvline(x = mean_medv, ymin = 0, ymax = 0.95, \n",
    "            linewidth = 5, color ='darkorange') \n",
    "plt.text(24, 150,'mean = 23')\n",
    "plt.text(24, 140, 'sd =9.1 ')\n",
    "plt.title(\"Histograma de MEDV respecto a todos los valores de CHAS\")\n",
    "plt.xlabel(\"Magnitude\")\n",
    "plt.ylabel(\"Frequency\")\n",
    "plt.show()"
   ]
  },
  {
   "cell_type": "code",
   "execution_count": 21,
   "metadata": {},
   "outputs": [
    {
     "data": {
      "image/png": "[encoded data removed]",
      "text/plain": [
       "<Figure size 432x288 with 1 Axes>"
      ]
     },
     "metadata": {
      "needs_background": "light"
     },
     "output_type": "display_data"
    }
   ],
   "source": [
    "mean_0 = round(bos_chas_0[\"MEDV\"].mean(), 1)\n",
    "mean_1 = round(bos_chas_1[\"MEDV\"].mean(), 1)\n",
    "\n",
    "sd_0 = round(bos_chas_0[\"MEDV\"].std(), 2)\n",
    "sd_1 = round(bos_chas_1[\"MEDV\"].std(), 2)\n",
    "\n",
    "\n",
    "plt.hist(chas_0, alpha = 0.5, width = 3, color = \"forestgreen\")\n",
    "plt.hist(chas_1, alpha = 0.5, width = 3, color = \"slateblue\")\n",
    "plt.axvline(x = mean_0, ymin = 0, ymax = 0.95, \n",
    "            linewidth = 5, color ='green') \n",
    "plt.axvline(x = mean_1, ymin = 0, ymax = 0.3, \n",
    "            linewidth = 5, color ='blueviolet') \n",
    "\n",
    "plt.text(23, 115,f'mean = {mean_0}')\n",
    "plt.text(23, 105, f'sd ={sd_0}')\n",
    "\n",
    "plt.text(30, 40,f'mean = {mean_1}')\n",
    "plt.text(30, 30, f'sd ={sd_1}')\n",
    "\n",
    "plt.title(\"Histograma de MEDV respecto a CHAS = 0 y CHAS = 1\")\n",
    "plt.xlabel(\"Magnitude\")\n",
    "plt.ylabel(\"Frequency\")\n",
    "plt.legend(['CHAS=0','CHAS=1'])\n",
    "plt.show()"
   ]
  },
  {
   "cell_type": "markdown",
   "metadata": {},
   "source": [
    "<div style=\"background-color: #EDF7FF; border-color: #7C9DBF; border-left: 5px solid #7C9DBF; padding: 0.5em;\">\n",
    "<strong>Ejercicio:</strong><br>\n",
    "Calculad y mostrad la correlación entre todos los atributos numéricos y la respuesta.\n",
    "</div>"
   ]
  },
  {
   "cell_type": "markdown",
   "metadata": {},
   "source": [
    "La cuantificación de la fuerza de la relación lineal entre dos variables cuantitativas, se estudia por medio del cálculo del coeficiente de correlación de Pearson. Dicho coeficiente oscila entre –1 y +1. Un valor de –1 indica una relación lineal o línea recta positiva perfecta. Una correlación próxima a cero indica que no hay relación lineal entre las dos variables.\n",
    "\n",
    "El realizar la representación gráfica de los datos para demostrar la relación entre el valor del coeficiente de correlación y la forma de la gráfica es fundamental ya que existen relaciones no lineales.\n",
    "\n",
    "El coeficiente de correlación posee las siguientes características:\n",
    "\n",
    "-El valor del coeficiente de correlación es independiente de cualquier unidad usada para medir las variables.\n",
    "\n",
    "-El valor del coeficiente de correlación se altera de forma importante ante la presencia de un valor extremo, como sucede con la desviación típica. Ante estas situaciones conviene realizar una transformación de datos que cambia la escala de medición y modera el efecto de valores extremos (como la transformación logarítmica).\n",
    "\n",
    "-El coeficiente de correlación mide solo la relación con una línea recta. Dos variables pueden tener una relación curvilínea fuerte, a pesar de que su correlación sea pequeña. \n",
    "\n",
    "-El coeficiente de correlación no se debe extrapolar más allá del rango de valores observado de las variables a estudio ya que la relación existente entre X e Y puede cambiar fuera de dicho rango.\n",
    "\n",
    "La correlación no implica causalidad. La causalidad es un juicio de valor que requiere más información que un simple valor cuantitativo de un coeficiente de correlación."
   ]
  },
  {
   "cell_type": "code",
   "execution_count": 22,
   "metadata": {},
   "outputs": [
    {
     "data": {
      "text/html": [
       "<div>\n",
       "<style scoped>\n",
       "    .dataframe tbody tr th:only-of-type {\n",
       "        vertical-align: middle;\n",
       "    }\n",
       "\n",
       "    .dataframe tbody tr th {\n",
       "        vertical-align: top;\n",
       "    }\n",
       "\n",
       "    .dataframe thead th {\n",
       "        text-align: right;\n",
       "    }\n",
       "</style>\n",
       "<table border=\"1\" class=\"dataframe\">\n",
       "  <thead>\n",
       "    <tr style=\"text-align: right;\">\n",
       "      <th></th>\n",
       "      <th>CRIM</th>\n",
       "      <th>ZN</th>\n",
       "      <th>INDUS</th>\n",
       "      <th>CHAS</th>\n",
       "      <th>NOX</th>\n",
       "      <th>RM</th>\n",
       "      <th>AGE</th>\n",
       "      <th>DIS</th>\n",
       "      <th>RAS</th>\n",
       "      <th>TAX</th>\n",
       "      <th>PTRATIO</th>\n",
       "      <th>B</th>\n",
       "      <th>LSTAT</th>\n",
       "      <th>MEDV</th>\n",
       "    </tr>\n",
       "  </thead>\n",
       "  <tbody>\n",
       "    <tr>\n",
       "      <td>0</td>\n",
       "      <td>0.000000</td>\n",
       "      <td>0.18</td>\n",
       "      <td>0.067815</td>\n",
       "      <td>0.0</td>\n",
       "      <td>0.314815</td>\n",
       "      <td>0.577505</td>\n",
       "      <td>0.641607</td>\n",
       "      <td>0.269203</td>\n",
       "      <td>0.000000</td>\n",
       "      <td>0.208015</td>\n",
       "      <td>0.287234</td>\n",
       "      <td>1.000000</td>\n",
       "      <td>0.089680</td>\n",
       "      <td>0.422222</td>\n",
       "    </tr>\n",
       "    <tr>\n",
       "      <td>1</td>\n",
       "      <td>0.000236</td>\n",
       "      <td>0.00</td>\n",
       "      <td>0.242302</td>\n",
       "      <td>0.0</td>\n",
       "      <td>0.172840</td>\n",
       "      <td>0.547998</td>\n",
       "      <td>0.782698</td>\n",
       "      <td>0.348962</td>\n",
       "      <td>0.043478</td>\n",
       "      <td>0.104962</td>\n",
       "      <td>0.553191</td>\n",
       "      <td>1.000000</td>\n",
       "      <td>0.204470</td>\n",
       "      <td>0.368889</td>\n",
       "    </tr>\n",
       "    <tr>\n",
       "      <td>2</td>\n",
       "      <td>0.000236</td>\n",
       "      <td>0.00</td>\n",
       "      <td>0.242302</td>\n",
       "      <td>0.0</td>\n",
       "      <td>0.172840</td>\n",
       "      <td>0.694386</td>\n",
       "      <td>0.599382</td>\n",
       "      <td>0.348962</td>\n",
       "      <td>0.043478</td>\n",
       "      <td>0.104962</td>\n",
       "      <td>0.553191</td>\n",
       "      <td>0.989737</td>\n",
       "      <td>0.063466</td>\n",
       "      <td>0.660000</td>\n",
       "    </tr>\n",
       "    <tr>\n",
       "      <td>3</td>\n",
       "      <td>0.000293</td>\n",
       "      <td>0.00</td>\n",
       "      <td>0.063050</td>\n",
       "      <td>0.0</td>\n",
       "      <td>0.150206</td>\n",
       "      <td>0.658555</td>\n",
       "      <td>0.441813</td>\n",
       "      <td>0.448545</td>\n",
       "      <td>0.086957</td>\n",
       "      <td>0.066794</td>\n",
       "      <td>0.648936</td>\n",
       "      <td>0.994276</td>\n",
       "      <td>0.033389</td>\n",
       "      <td>0.631111</td>\n",
       "    </tr>\n",
       "    <tr>\n",
       "      <td>4</td>\n",
       "      <td>0.000705</td>\n",
       "      <td>0.00</td>\n",
       "      <td>0.063050</td>\n",
       "      <td>0.0</td>\n",
       "      <td>0.150206</td>\n",
       "      <td>0.687105</td>\n",
       "      <td>0.528321</td>\n",
       "      <td>0.448545</td>\n",
       "      <td>0.086957</td>\n",
       "      <td>0.066794</td>\n",
       "      <td>0.648936</td>\n",
       "      <td>1.000000</td>\n",
       "      <td>0.099338</td>\n",
       "      <td>0.693333</td>\n",
       "    </tr>\n",
       "  </tbody>\n",
       "</table>\n",
       "</div>"
      ],
      "text/plain": [
       "       CRIM    ZN     INDUS  CHAS       NOX        RM       AGE       DIS  \\\n",
       "0  0.000000  0.18  0.067815   0.0  0.314815  0.577505  0.641607  0.269203   \n",
       "1  0.000236  0.00  0.242302   0.0  0.172840  0.547998  0.782698  0.348962   \n",
       "2  0.000236  0.00  0.242302   0.0  0.172840  0.694386  0.599382  0.348962   \n",
       "3  0.000293  0.00  0.063050   0.0  0.150206  0.658555  0.441813  0.448545   \n",
       "4  0.000705  0.00  0.063050   0.0  0.150206  0.687105  0.528321  0.448545   \n",
       "\n",
       "        RAS       TAX   PTRATIO         B     LSTAT      MEDV  \n",
       "0  0.000000  0.208015  0.287234  1.000000  0.089680  0.422222  \n",
       "1  0.043478  0.104962  0.553191  1.000000  0.204470  0.368889  \n",
       "2  0.043478  0.104962  0.553191  0.989737  0.063466  0.660000  \n",
       "3  0.086957  0.066794  0.648936  0.994276  0.033389  0.631111  \n",
       "4  0.086957  0.066794  0.648936  1.000000  0.099338  0.693333  "
      ]
     },
     "execution_count": 22,
     "metadata": {},
     "output_type": "execute_result"
    }
   ],
   "source": [
    "x = boston_df.values #returns a numpy arraymin_max_scaler = preprocessing.MinMaxScaler()\n",
    "x_scaled = min_max_scaler.fit_transform(x)\n",
    "df_boston_norm = pd.DataFrame(x_scaled)\n",
    "\n",
    "df_boston_norm.rename(columns = {0:'CRIM',1:'ZN',2:'INDUS', 3:'CHAS',4:'NOX',5:'RM', 6:'AGE', 7:'DIS',8:'RAS',9:'TAX',10:'PTRATIO',11:'B',12:'LSTAT', 13:'MEDV'}, inplace = True) \n",
    "df_boston_norm.head()"
   ]
  },
  {
   "cell_type": "code",
   "execution_count": 23,
   "metadata": {},
   "outputs": [
    {
     "data": {
      "text/html": [
       "<style  type=\"text/css\" >\n",
       "    #T_35ebb250_0c01_11eb_9b74_acde48001122row0_col0 {\n",
       "            background-color:  #b40426;\n",
       "            color:  #f1f1f1;\n",
       "        }    #T_35ebb250_0c01_11eb_9b74_acde48001122row0_col1 {\n",
       "            background-color:  #88abfd;\n",
       "            color:  #000000;\n",
       "        }    #T_35ebb250_0c01_11eb_9b74_acde48001122row0_col2 {\n",
       "            background-color:  #f7bca1;\n",
       "            color:  #000000;\n",
       "        }    #T_35ebb250_0c01_11eb_9b74_acde48001122row0_col3 {\n",
       "            background-color:  #4b64d5;\n",
       "            color:  #f1f1f1;\n",
       "        }    #T_35ebb250_0c01_11eb_9b74_acde48001122row0_col4 {\n",
       "            background-color:  #f7b599;\n",
       "            color:  #000000;\n",
       "        }    #T_35ebb250_0c01_11eb_9b74_acde48001122row0_col5 {\n",
       "            background-color:  #8badfd;\n",
       "            color:  #000000;\n",
       "        }    #T_35ebb250_0c01_11eb_9b74_acde48001122row0_col6 {\n",
       "            background-color:  #f5c2aa;\n",
       "            color:  #000000;\n",
       "        }    #T_35ebb250_0c01_11eb_9b74_acde48001122row0_col7 {\n",
       "            background-color:  #82a6fb;\n",
       "            color:  #000000;\n",
       "        }    #T_35ebb250_0c01_11eb_9b74_acde48001122row0_col8 {\n",
       "            background-color:  #f49a7b;\n",
       "            color:  #000000;\n",
       "        }    #T_35ebb250_0c01_11eb_9b74_acde48001122row0_col9 {\n",
       "            background-color:  #f6a283;\n",
       "            color:  #000000;\n",
       "        }    #T_35ebb250_0c01_11eb_9b74_acde48001122row0_col10 {\n",
       "            background-color:  #e4d9d2;\n",
       "            color:  #000000;\n",
       "        }    #T_35ebb250_0c01_11eb_9b74_acde48001122row0_col11 {\n",
       "            background-color:  #465ecf;\n",
       "            color:  #f1f1f1;\n",
       "        }    #T_35ebb250_0c01_11eb_9b74_acde48001122row0_col12 {\n",
       "            background-color:  #f7b194;\n",
       "            color:  #000000;\n",
       "        }    #T_35ebb250_0c01_11eb_9b74_acde48001122row0_col13 {\n",
       "            background-color:  #7b9ff9;\n",
       "            color:  #000000;\n",
       "        }    #T_35ebb250_0c01_11eb_9b74_acde48001122row1_col0 {\n",
       "            background-color:  #6485ec;\n",
       "            color:  #000000;\n",
       "        }    #T_35ebb250_0c01_11eb_9b74_acde48001122row1_col1 {\n",
       "            background-color:  #b40426;\n",
       "            color:  #f1f1f1;\n",
       "        }    #T_35ebb250_0c01_11eb_9b74_acde48001122row1_col2 {\n",
       "            background-color:  #5a78e4;\n",
       "            color:  #000000;\n",
       "        }    #T_35ebb250_0c01_11eb_9b74_acde48001122row1_col3 {\n",
       "            background-color:  #4f69d9;\n",
       "            color:  #000000;\n",
       "        }    #T_35ebb250_0c01_11eb_9b74_acde48001122row1_col4 {\n",
       "            background-color:  #6788ee;\n",
       "            color:  #000000;\n",
       "        }    #T_35ebb250_0c01_11eb_9b74_acde48001122row1_col5 {\n",
       "            background-color:  #edd1c2;\n",
       "            color:  #000000;\n",
       "        }    #T_35ebb250_0c01_11eb_9b74_acde48001122row1_col6 {\n",
       "            background-color:  #5a78e4;\n",
       "            color:  #000000;\n",
       "        }    #T_35ebb250_0c01_11eb_9b74_acde48001122row1_col7 {\n",
       "            background-color:  #ec7f63;\n",
       "            color:  #000000;\n",
       "        }    #T_35ebb250_0c01_11eb_9b74_acde48001122row1_col8 {\n",
       "            background-color:  #6180e9;\n",
       "            color:  #000000;\n",
       "        }    #T_35ebb250_0c01_11eb_9b74_acde48001122row1_col9 {\n",
       "            background-color:  #6788ee;\n",
       "            color:  #000000;\n",
       "        }    #T_35ebb250_0c01_11eb_9b74_acde48001122row1_col10 {\n",
       "            background-color:  #516ddb;\n",
       "            color:  #000000;\n",
       "        }    #T_35ebb250_0c01_11eb_9b74_acde48001122row1_col11 {\n",
       "            background-color:  #c9d7f0;\n",
       "            color:  #000000;\n",
       "        }    #T_35ebb250_0c01_11eb_9b74_acde48001122row1_col12 {\n",
       "            background-color:  #7699f6;\n",
       "            color:  #000000;\n",
       "        }    #T_35ebb250_0c01_11eb_9b74_acde48001122row1_col13 {\n",
       "            background-color:  #f5c2aa;\n",
       "            color:  #000000;\n",
       "        }    #T_35ebb250_0c01_11eb_9b74_acde48001122row2_col0 {\n",
       "            background-color:  #edd1c2;\n",
       "            color:  #000000;\n",
       "        }    #T_35ebb250_0c01_11eb_9b74_acde48001122row2_col1 {\n",
       "            background-color:  #4055c8;\n",
       "            color:  #f1f1f1;\n",
       "        }    #T_35ebb250_0c01_11eb_9b74_acde48001122row2_col2 {\n",
       "            background-color:  #b40426;\n",
       "            color:  #f1f1f1;\n",
       "        }    #T_35ebb250_0c01_11eb_9b74_acde48001122row2_col3 {\n",
       "            background-color:  #6f92f3;\n",
       "            color:  #000000;\n",
       "        }    #T_35ebb250_0c01_11eb_9b74_acde48001122row2_col4 {\n",
       "            background-color:  #e0654f;\n",
       "            color:  #000000;\n",
       "        }    #T_35ebb250_0c01_11eb_9b74_acde48001122row2_col5 {\n",
       "            background-color:  #6687ed;\n",
       "            color:  #000000;\n",
       "        }    #T_35ebb250_0c01_11eb_9b74_acde48001122row2_col6 {\n",
       "            background-color:  #ee8669;\n",
       "            color:  #000000;\n",
       "        }    #T_35ebb250_0c01_11eb_9b74_acde48001122row2_col7 {\n",
       "            background-color:  #445acc;\n",
       "            color:  #f1f1f1;\n",
       "        }    #T_35ebb250_0c01_11eb_9b74_acde48001122row2_col8 {\n",
       "            background-color:  #f6a283;\n",
       "            color:  #000000;\n",
       "        }    #T_35ebb250_0c01_11eb_9b74_acde48001122row2_col9 {\n",
       "            background-color:  #ea7b60;\n",
       "            color:  #000000;\n",
       "        }    #T_35ebb250_0c01_11eb_9b74_acde48001122row2_col10 {\n",
       "            background-color:  #f1cdba;\n",
       "            color:  #000000;\n",
       "        }    #T_35ebb250_0c01_11eb_9b74_acde48001122row2_col11 {\n",
       "            background-color:  #4c66d6;\n",
       "            color:  #000000;\n",
       "        }    #T_35ebb250_0c01_11eb_9b74_acde48001122row2_col12 {\n",
       "            background-color:  #f29072;\n",
       "            color:  #000000;\n",
       "        }    #T_35ebb250_0c01_11eb_9b74_acde48001122row2_col13 {\n",
       "            background-color:  #688aef;\n",
       "            color:  #000000;\n",
       "        }    #T_35ebb250_0c01_11eb_9b74_acde48001122row3_col0 {\n",
       "            background-color:  #89acfd;\n",
       "            color:  #000000;\n",
       "        }    #T_35ebb250_0c01_11eb_9b74_acde48001122row3_col1 {\n",
       "            background-color:  #aac7fd;\n",
       "            color:  #000000;\n",
       "        }    #T_35ebb250_0c01_11eb_9b74_acde48001122row3_col2 {\n",
       "            background-color:  #cfdaea;\n",
       "            color:  #000000;\n",
       "        }    #T_35ebb250_0c01_11eb_9b74_acde48001122row3_col3 {\n",
       "            background-color:  #b40426;\n",
       "            color:  #f1f1f1;\n",
       "        }    #T_35ebb250_0c01_11eb_9b74_acde48001122row3_col4 {\n",
       "            background-color:  #d9dce1;\n",
       "            color:  #000000;\n",
       "        }    #T_35ebb250_0c01_11eb_9b74_acde48001122row3_col5 {\n",
       "            background-color:  #cbd8ee;\n",
       "            color:  #000000;\n",
       "        }    #T_35ebb250_0c01_11eb_9b74_acde48001122row3_col6 {\n",
       "            background-color:  #d7dce3;\n",
       "            color:  #000000;\n",
       "        }    #T_35ebb250_0c01_11eb_9b74_acde48001122row3_col7 {\n",
       "            background-color:  #b9d0f9;\n",
       "            color:  #000000;\n",
       "        }    #T_35ebb250_0c01_11eb_9b74_acde48001122row3_col8 {\n",
       "            background-color:  #a7c5fe;\n",
       "            color:  #000000;\n",
       "        }    #T_35ebb250_0c01_11eb_9b74_acde48001122row3_col9 {\n",
       "            background-color:  #a7c5fe;\n",
       "            color:  #000000;\n",
       "        }    #T_35ebb250_0c01_11eb_9b74_acde48001122row3_col10 {\n",
       "            background-color:  #8fb1fe;\n",
       "            color:  #000000;\n",
       "        }    #T_35ebb250_0c01_11eb_9b74_acde48001122row3_col11 {\n",
       "            background-color:  #adc9fd;\n",
       "            color:  #000000;\n",
       "        }    #T_35ebb250_0c01_11eb_9b74_acde48001122row3_col12 {\n",
       "            background-color:  #bed2f6;\n",
       "            color:  #000000;\n",
       "        }    #T_35ebb250_0c01_11eb_9b74_acde48001122row3_col13 {\n",
       "            background-color:  #e3d9d3;\n",
       "            color:  #000000;\n",
       "        }    #T_35ebb250_0c01_11eb_9b74_acde48001122row4_col0 {\n",
       "            background-color:  #efcebd;\n",
       "            color:  #000000;\n",
       "        }    #T_35ebb250_0c01_11eb_9b74_acde48001122row4_col1 {\n",
       "            background-color:  #445acc;\n",
       "            color:  #f1f1f1;\n",
       "        }    #T_35ebb250_0c01_11eb_9b74_acde48001122row4_col2 {\n",
       "            background-color:  #e16751;\n",
       "            color:  #000000;\n",
       "        }    #T_35ebb250_0c01_11eb_9b74_acde48001122row4_col3 {\n",
       "            background-color:  #779af7;\n",
       "            color:  #000000;\n",
       "        }    #T_35ebb250_0c01_11eb_9b74_acde48001122row4_col4 {\n",
       "            background-color:  #b40426;\n",
       "            color:  #f1f1f1;\n",
       "        }    #T_35ebb250_0c01_11eb_9b74_acde48001122row4_col5 {\n",
       "            background-color:  #799cf8;\n",
       "            color:  #000000;\n",
       "        }    #T_35ebb250_0c01_11eb_9b74_acde48001122row4_col6 {\n",
       "            background-color:  #e46e56;\n",
       "            color:  #000000;\n",
       "        }    #T_35ebb250_0c01_11eb_9b74_acde48001122row4_col7 {\n",
       "            background-color:  #3b4cc0;\n",
       "            color:  #f1f1f1;\n",
       "        }    #T_35ebb250_0c01_11eb_9b74_acde48001122row4_col8 {\n",
       "            background-color:  #f59d7e;\n",
       "            color:  #000000;\n",
       "        }    #T_35ebb250_0c01_11eb_9b74_acde48001122row4_col9 {\n",
       "            background-color:  #f08b6e;\n",
       "            color:  #000000;\n",
       "        }    #T_35ebb250_0c01_11eb_9b74_acde48001122row4_col10 {\n",
       "            background-color:  #d3dbe7;\n",
       "            color:  #000000;\n",
       "        }    #T_35ebb250_0c01_11eb_9b74_acde48001122row4_col11 {\n",
       "            background-color:  #485fd1;\n",
       "            color:  #f1f1f1;\n",
       "        }    #T_35ebb250_0c01_11eb_9b74_acde48001122row4_col12 {\n",
       "            background-color:  #f39475;\n",
       "            color:  #000000;\n",
       "        }    #T_35ebb250_0c01_11eb_9b74_acde48001122row4_col13 {\n",
       "            background-color:  #7396f5;\n",
       "            color:  #000000;\n",
       "        }    #T_35ebb250_0c01_11eb_9b74_acde48001122row5_col0 {\n",
       "            background-color:  #6180e9;\n",
       "            color:  #000000;\n",
       "        }    #T_35ebb250_0c01_11eb_9b74_acde48001122row5_col1 {\n",
       "            background-color:  #ebd3c6;\n",
       "            color:  #000000;\n",
       "        }    #T_35ebb250_0c01_11eb_9b74_acde48001122row5_col2 {\n",
       "            background-color:  #7699f6;\n",
       "            color:  #000000;\n",
       "        }    #T_35ebb250_0c01_11eb_9b74_acde48001122row5_col3 {\n",
       "            background-color:  #779af7;\n",
       "            color:  #000000;\n",
       "        }    #T_35ebb250_0c01_11eb_9b74_acde48001122row5_col4 {\n",
       "            background-color:  #92b4fe;\n",
       "            color:  #000000;\n",
       "        }    #T_35ebb250_0c01_11eb_9b74_acde48001122row5_col5 {\n",
       "            background-color:  #b40426;\n",
       "            color:  #f1f1f1;\n",
       "        }    #T_35ebb250_0c01_11eb_9b74_acde48001122row5_col6 {\n",
       "            background-color:  #9bbcff;\n",
       "            color:  #000000;\n",
       "        }    #T_35ebb250_0c01_11eb_9b74_acde48001122row5_col7 {\n",
       "            background-color:  #ead5c9;\n",
       "            color:  #000000;\n",
       "        }    #T_35ebb250_0c01_11eb_9b74_acde48001122row5_col8 {\n",
       "            background-color:  #779af7;\n",
       "            color:  #000000;\n",
       "        }    #T_35ebb250_0c01_11eb_9b74_acde48001122row5_col9 {\n",
       "            background-color:  #6c8ff1;\n",
       "            color:  #000000;\n",
       "        }    #T_35ebb250_0c01_11eb_9b74_acde48001122row5_col10 {\n",
       "            background-color:  #5977e3;\n",
       "            color:  #000000;\n",
       "        }    #T_35ebb250_0c01_11eb_9b74_acde48001122row5_col11 {\n",
       "            background-color:  #bfd3f6;\n",
       "            color:  #000000;\n",
       "        }    #T_35ebb250_0c01_11eb_9b74_acde48001122row5_col12 {\n",
       "            background-color:  #506bda;\n",
       "            color:  #000000;\n",
       "        }    #T_35ebb250_0c01_11eb_9b74_acde48001122row5_col13 {\n",
       "            background-color:  #e9785d;\n",
       "            color:  #000000;\n",
       "        }    #T_35ebb250_0c01_11eb_9b74_acde48001122row6_col0 {\n",
       "            background-color:  #e5d8d1;\n",
       "            color:  #000000;\n",
       "        }    #T_35ebb250_0c01_11eb_9b74_acde48001122row6_col1 {\n",
       "            background-color:  #3b4cc0;\n",
       "            color:  #f1f1f1;\n",
       "        }    #T_35ebb250_0c01_11eb_9b74_acde48001122row6_col2 {\n",
       "            background-color:  #ef886b;\n",
       "            color:  #000000;\n",
       "        }    #T_35ebb250_0c01_11eb_9b74_acde48001122row6_col3 {\n",
       "            background-color:  #7699f6;\n",
       "            color:  #000000;\n",
       "        }    #T_35ebb250_0c01_11eb_9b74_acde48001122row6_col4 {\n",
       "            background-color:  #e36c55;\n",
       "            color:  #000000;\n",
       "        }    #T_35ebb250_0c01_11eb_9b74_acde48001122row6_col5 {\n",
       "            background-color:  #86a9fc;\n",
       "            color:  #000000;\n",
       "        }    #T_35ebb250_0c01_11eb_9b74_acde48001122row6_col6 {\n",
       "            background-color:  #b40426;\n",
       "            color:  #f1f1f1;\n",
       "        }    #T_35ebb250_0c01_11eb_9b74_acde48001122row6_col7 {\n",
       "            background-color:  #3e51c5;\n",
       "            color:  #f1f1f1;\n",
       "        }    #T_35ebb250_0c01_11eb_9b74_acde48001122row6_col8 {\n",
       "            background-color:  #f5c1a9;\n",
       "            color:  #000000;\n",
       "        }    #T_35ebb250_0c01_11eb_9b74_acde48001122row6_col9 {\n",
       "            background-color:  #f7b497;\n",
       "            color:  #000000;\n",
       "        }    #T_35ebb250_0c01_11eb_9b74_acde48001122row6_col10 {\n",
       "            background-color:  #dfdbd9;\n",
       "            color:  #000000;\n",
       "        }    #T_35ebb250_0c01_11eb_9b74_acde48001122row6_col11 {\n",
       "            background-color:  #5f7fe8;\n",
       "            color:  #000000;\n",
       "        }    #T_35ebb250_0c01_11eb_9b74_acde48001122row6_col12 {\n",
       "            background-color:  #f29072;\n",
       "            color:  #000000;\n",
       "        }    #T_35ebb250_0c01_11eb_9b74_acde48001122row6_col13 {\n",
       "            background-color:  #7ea1fa;\n",
       "            color:  #000000;\n",
       "        }    #T_35ebb250_0c01_11eb_9b74_acde48001122row7_col0 {\n",
       "            background-color:  #3c4ec2;\n",
       "            color:  #f1f1f1;\n",
       "        }    #T_35ebb250_0c01_11eb_9b74_acde48001122row7_col1 {\n",
       "            background-color:  #f08a6c;\n",
       "            color:  #000000;\n",
       "        }    #T_35ebb250_0c01_11eb_9b74_acde48001122row7_col2 {\n",
       "            background-color:  #3b4cc0;\n",
       "            color:  #f1f1f1;\n",
       "        }    #T_35ebb250_0c01_11eb_9b74_acde48001122row7_col3 {\n",
       "            background-color:  #4055c8;\n",
       "            color:  #f1f1f1;\n",
       "        }    #T_35ebb250_0c01_11eb_9b74_acde48001122row7_col4 {\n",
       "            background-color:  #3b4cc0;\n",
       "            color:  #f1f1f1;\n",
       "        }    #T_35ebb250_0c01_11eb_9b74_acde48001122row7_col5 {\n",
       "            background-color:  #dedcdb;\n",
       "            color:  #000000;\n",
       "        }    #T_35ebb250_0c01_11eb_9b74_acde48001122row7_col6 {\n",
       "            background-color:  #3b4cc0;\n",
       "            color:  #f1f1f1;\n",
       "        }    #T_35ebb250_0c01_11eb_9b74_acde48001122row7_col7 {\n",
       "            background-color:  #b40426;\n",
       "            color:  #f1f1f1;\n",
       "        }    #T_35ebb250_0c01_11eb_9b74_acde48001122row7_col8 {\n",
       "            background-color:  #3b4cc0;\n",
       "            color:  #f1f1f1;\n",
       "        }    #T_35ebb250_0c01_11eb_9b74_acde48001122row7_col9 {\n",
       "            background-color:  #3b4cc0;\n",
       "            color:  #f1f1f1;\n",
       "        }    #T_35ebb250_0c01_11eb_9b74_acde48001122row7_col10 {\n",
       "            background-color:  #7597f6;\n",
       "            color:  #000000;\n",
       "        }    #T_35ebb250_0c01_11eb_9b74_acde48001122row7_col11 {\n",
       "            background-color:  #dfdbd9;\n",
       "            color:  #000000;\n",
       "        }    #T_35ebb250_0c01_11eb_9b74_acde48001122row7_col12 {\n",
       "            background-color:  #6687ed;\n",
       "            color:  #000000;\n",
       "        }    #T_35ebb250_0c01_11eb_9b74_acde48001122row7_col13 {\n",
       "            background-color:  #edd2c3;\n",
       "            color:  #000000;\n",
       "        }    #T_35ebb250_0c01_11eb_9b74_acde48001122row8_col0 {\n",
       "            background-color:  #f6a283;\n",
       "            color:  #000000;\n",
       "        }    #T_35ebb250_0c01_11eb_9b74_acde48001122row8_col1 {\n",
       "            background-color:  #6f92f3;\n",
       "            color:  #000000;\n",
       "        }    #T_35ebb250_0c01_11eb_9b74_acde48001122row8_col2 {\n",
       "            background-color:  #f39475;\n",
       "            color:  #000000;\n",
       "        }    #T_35ebb250_0c01_11eb_9b74_acde48001122row8_col3 {\n",
       "            background-color:  #5a78e4;\n",
       "            color:  #000000;\n",
       "        }    #T_35ebb250_0c01_11eb_9b74_acde48001122row8_col4 {\n",
       "            background-color:  #f18d6f;\n",
       "            color:  #000000;\n",
       "        }    #T_35ebb250_0c01_11eb_9b74_acde48001122row8_col5 {\n",
       "            background-color:  #8db0fe;\n",
       "            color:  #000000;\n",
       "        }    #T_35ebb250_0c01_11eb_9b74_acde48001122row8_col6 {\n",
       "            background-color:  #f7b093;\n",
       "            color:  #000000;\n",
       "        }    #T_35ebb250_0c01_11eb_9b74_acde48001122row8_col7 {\n",
       "            background-color:  #6b8df0;\n",
       "            color:  #000000;\n",
       "        }    #T_35ebb250_0c01_11eb_9b74_acde48001122row8_col8 {\n",
       "            background-color:  #b40426;\n",
       "            color:  #f1f1f1;\n",
       "        }    #T_35ebb250_0c01_11eb_9b74_acde48001122row8_col9 {\n",
       "            background-color:  #c83836;\n",
       "            color:  #f1f1f1;\n",
       "        }    #T_35ebb250_0c01_11eb_9b74_acde48001122row8_col10 {\n",
       "            background-color:  #f6bea4;\n",
       "            color:  #000000;\n",
       "        }    #T_35ebb250_0c01_11eb_9b74_acde48001122row8_col11 {\n",
       "            background-color:  #3b4cc0;\n",
       "            color:  #f1f1f1;\n",
       "        }    #T_35ebb250_0c01_11eb_9b74_acde48001122row8_col12 {\n",
       "            background-color:  #f7aa8c;\n",
       "            color:  #000000;\n",
       "        }    #T_35ebb250_0c01_11eb_9b74_acde48001122row8_col13 {\n",
       "            background-color:  #7da0f9;\n",
       "            color:  #000000;\n",
       "        }    #T_35ebb250_0c01_11eb_9b74_acde48001122row9_col0 {\n",
       "            background-color:  #f7ac8e;\n",
       "            color:  #000000;\n",
       "        }    #T_35ebb250_0c01_11eb_9b74_acde48001122row9_col1 {\n",
       "            background-color:  #6e90f2;\n",
       "            color:  #000000;\n",
       "        }    #T_35ebb250_0c01_11eb_9b74_acde48001122row9_col2 {\n",
       "            background-color:  #e67259;\n",
       "            color:  #000000;\n",
       "        }    #T_35ebb250_0c01_11eb_9b74_acde48001122row9_col3 {\n",
       "            background-color:  #516ddb;\n",
       "            color:  #000000;\n",
       "        }    #T_35ebb250_0c01_11eb_9b74_acde48001122row9_col4 {\n",
       "            background-color:  #ec7f63;\n",
       "            color:  #000000;\n",
       "        }    #T_35ebb250_0c01_11eb_9b74_acde48001122row9_col5 {\n",
       "            background-color:  #7b9ff9;\n",
       "            color:  #000000;\n",
       "        }    #T_35ebb250_0c01_11eb_9b74_acde48001122row9_col6 {\n",
       "            background-color:  #f7a688;\n",
       "            color:  #000000;\n",
       "        }    #T_35ebb250_0c01_11eb_9b74_acde48001122row9_col7 {\n",
       "            background-color:  #6384eb;\n",
       "            color:  #000000;\n",
       "        }    #T_35ebb250_0c01_11eb_9b74_acde48001122row9_col8 {\n",
       "            background-color:  #ca3b37;\n",
       "            color:  #f1f1f1;\n",
       "        }    #T_35ebb250_0c01_11eb_9b74_acde48001122row9_col9 {\n",
       "            background-color:  #b40426;\n",
       "            color:  #f1f1f1;\n",
       "        }    #T_35ebb250_0c01_11eb_9b74_acde48001122row9_col10 {\n",
       "            background-color:  #f6bfa6;\n",
       "            color:  #000000;\n",
       "        }    #T_35ebb250_0c01_11eb_9b74_acde48001122row9_col11 {\n",
       "            background-color:  #3b4cc0;\n",
       "            color:  #f1f1f1;\n",
       "        }    #T_35ebb250_0c01_11eb_9b74_acde48001122row9_col12 {\n",
       "            background-color:  #f59f80;\n",
       "            color:  #000000;\n",
       "        }    #T_35ebb250_0c01_11eb_9b74_acde48001122row9_col13 {\n",
       "            background-color:  #6b8df0;\n",
       "            color:  #000000;\n",
       "        }    #T_35ebb250_0c01_11eb_9b74_acde48001122row10_col0 {\n",
       "            background-color:  #dadce0;\n",
       "            color:  #000000;\n",
       "        }    #T_35ebb250_0c01_11eb_9b74_acde48001122row10_col1 {\n",
       "            background-color:  #5e7de7;\n",
       "            color:  #000000;\n",
       "        }    #T_35ebb250_0c01_11eb_9b74_acde48001122row10_col2 {\n",
       "            background-color:  #f5c0a7;\n",
       "            color:  #000000;\n",
       "        }    #T_35ebb250_0c01_11eb_9b74_acde48001122row10_col3 {\n",
       "            background-color:  #3b4cc0;\n",
       "            color:  #f1f1f1;\n",
       "        }    #T_35ebb250_0c01_11eb_9b74_acde48001122row10_col4 {\n",
       "            background-color:  #e7d7ce;\n",
       "            color:  #000000;\n",
       "        }    #T_35ebb250_0c01_11eb_9b74_acde48001122row10_col5 {\n",
       "            background-color:  #6c8ff1;\n",
       "            color:  #000000;\n",
       "        }    #T_35ebb250_0c01_11eb_9b74_acde48001122row10_col6 {\n",
       "            background-color:  #eed0c0;\n",
       "            color:  #000000;\n",
       "        }    #T_35ebb250_0c01_11eb_9b74_acde48001122row10_col7 {\n",
       "            background-color:  #9fbfff;\n",
       "            color:  #000000;\n",
       "        }    #T_35ebb250_0c01_11eb_9b74_acde48001122row10_col8 {\n",
       "            background-color:  #f6bfa6;\n",
       "            color:  #000000;\n",
       "        }    #T_35ebb250_0c01_11eb_9b74_acde48001122row10_col9 {\n",
       "            background-color:  #f6bda2;\n",
       "            color:  #000000;\n",
       "        }    #T_35ebb250_0c01_11eb_9b74_acde48001122row10_col10 {\n",
       "            background-color:  #b40426;\n",
       "            color:  #f1f1f1;\n",
       "        }    #T_35ebb250_0c01_11eb_9b74_acde48001122row10_col11 {\n",
       "            background-color:  #7699f6;\n",
       "            color:  #000000;\n",
       "        }    #T_35ebb250_0c01_11eb_9b74_acde48001122row10_col12 {\n",
       "            background-color:  #f5c0a7;\n",
       "            color:  #000000;\n",
       "        }    #T_35ebb250_0c01_11eb_9b74_acde48001122row10_col13 {\n",
       "            background-color:  #6384eb;\n",
       "            color:  #000000;\n",
       "        }    #T_35ebb250_0c01_11eb_9b74_acde48001122row11_col0 {\n",
       "            background-color:  #3b4cc0;\n",
       "            color:  #f1f1f1;\n",
       "        }    #T_35ebb250_0c01_11eb_9b74_acde48001122row11_col1 {\n",
       "            background-color:  #d6dce4;\n",
       "            color:  #000000;\n",
       "        }    #T_35ebb250_0c01_11eb_9b74_acde48001122row11_col2 {\n",
       "            background-color:  #7da0f9;\n",
       "            color:  #000000;\n",
       "        }    #T_35ebb250_0c01_11eb_9b74_acde48001122row11_col3 {\n",
       "            background-color:  #6a8bef;\n",
       "            color:  #000000;\n",
       "        }    #T_35ebb250_0c01_11eb_9b74_acde48001122row11_col4 {\n",
       "            background-color:  #82a6fb;\n",
       "            color:  #000000;\n",
       "        }    #T_35ebb250_0c01_11eb_9b74_acde48001122row11_col5 {\n",
       "            background-color:  #d2dbe8;\n",
       "            color:  #000000;\n",
       "        }    #T_35ebb250_0c01_11eb_9b74_acde48001122row11_col6 {\n",
       "            background-color:  #94b6ff;\n",
       "            color:  #000000;\n",
       "        }    #T_35ebb250_0c01_11eb_9b74_acde48001122row11_col7 {\n",
       "            background-color:  #f2cbb7;\n",
       "            color:  #000000;\n",
       "        }    #T_35ebb250_0c01_11eb_9b74_acde48001122row11_col8 {\n",
       "            background-color:  #445acc;\n",
       "            color:  #f1f1f1;\n",
       "        }    #T_35ebb250_0c01_11eb_9b74_acde48001122row11_col9 {\n",
       "            background-color:  #4c66d6;\n",
       "            color:  #000000;\n",
       "        }    #T_35ebb250_0c01_11eb_9b74_acde48001122row11_col10 {\n",
       "            background-color:  #82a6fb;\n",
       "            color:  #000000;\n",
       "        }    #T_35ebb250_0c01_11eb_9b74_acde48001122row11_col11 {\n",
       "            background-color:  #b40426;\n",
       "            color:  #f1f1f1;\n",
       "        }    #T_35ebb250_0c01_11eb_9b74_acde48001122row11_col12 {\n",
       "            background-color:  #80a3fa;\n",
       "            color:  #000000;\n",
       "        }    #T_35ebb250_0c01_11eb_9b74_acde48001122row11_col13 {\n",
       "            background-color:  #f3c7b1;\n",
       "            color:  #000000;\n",
       "        }    #T_35ebb250_0c01_11eb_9b74_acde48001122row12_col0 {\n",
       "            background-color:  #f2c9b4;\n",
       "            color:  #000000;\n",
       "        }    #T_35ebb250_0c01_11eb_9b74_acde48001122row12_col1 {\n",
       "            background-color:  #5977e3;\n",
       "            color:  #000000;\n",
       "        }    #T_35ebb250_0c01_11eb_9b74_acde48001122row12_col2 {\n",
       "            background-color:  #f29274;\n",
       "            color:  #000000;\n",
       "        }    #T_35ebb250_0c01_11eb_9b74_acde48001122row12_col3 {\n",
       "            background-color:  #4c66d6;\n",
       "            color:  #000000;\n",
       "        }    #T_35ebb250_0c01_11eb_9b74_acde48001122row12_col4 {\n",
       "            background-color:  #f29274;\n",
       "            color:  #000000;\n",
       "        }    #T_35ebb250_0c01_11eb_9b74_acde48001122row12_col5 {\n",
       "            background-color:  #3b4cc0;\n",
       "            color:  #f1f1f1;\n",
       "        }    #T_35ebb250_0c01_11eb_9b74_acde48001122row12_col6 {\n",
       "            background-color:  #f29072;\n",
       "            color:  #000000;\n",
       "        }    #T_35ebb250_0c01_11eb_9b74_acde48001122row12_col7 {\n",
       "            background-color:  #6b8df0;\n",
       "            color:  #000000;\n",
       "        }    #T_35ebb250_0c01_11eb_9b74_acde48001122row12_col8 {\n",
       "            background-color:  #f7ba9f;\n",
       "            color:  #000000;\n",
       "        }    #T_35ebb250_0c01_11eb_9b74_acde48001122row12_col9 {\n",
       "            background-color:  #f7ac8e;\n",
       "            color:  #000000;\n",
       "        }    #T_35ebb250_0c01_11eb_9b74_acde48001122row12_col10 {\n",
       "            background-color:  #efcebd;\n",
       "            color:  #000000;\n",
       "        }    #T_35ebb250_0c01_11eb_9b74_acde48001122row12_col11 {\n",
       "            background-color:  #4a63d3;\n",
       "            color:  #f1f1f1;\n",
       "        }    #T_35ebb250_0c01_11eb_9b74_acde48001122row12_col12 {\n",
       "            background-color:  #b40426;\n",
       "            color:  #f1f1f1;\n",
       "        }    #T_35ebb250_0c01_11eb_9b74_acde48001122row12_col13 {\n",
       "            background-color:  #3b4cc0;\n",
       "            color:  #f1f1f1;\n",
       "        }    #T_35ebb250_0c01_11eb_9b74_acde48001122row13_col0 {\n",
       "            background-color:  #3b4cc0;\n",
       "            color:  #f1f1f1;\n",
       "        }    #T_35ebb250_0c01_11eb_9b74_acde48001122row13_col1 {\n",
       "            background-color:  #f1cdba;\n",
       "            color:  #000000;\n",
       "        }    #T_35ebb250_0c01_11eb_9b74_acde48001122row13_col2 {\n",
       "            background-color:  #6384eb;\n",
       "            color:  #000000;\n",
       "        }    #T_35ebb250_0c01_11eb_9b74_acde48001122row13_col3 {\n",
       "            background-color:  #92b4fe;\n",
       "            color:  #000000;\n",
       "        }    #T_35ebb250_0c01_11eb_9b74_acde48001122row13_col4 {\n",
       "            background-color:  #799cf8;\n",
       "            color:  #000000;\n",
       "        }    #T_35ebb250_0c01_11eb_9b74_acde48001122row13_col5 {\n",
       "            background-color:  #ec7f63;\n",
       "            color:  #000000;\n",
       "        }    #T_35ebb250_0c01_11eb_9b74_acde48001122row13_col6 {\n",
       "            background-color:  #80a3fa;\n",
       "            color:  #000000;\n",
       "        }    #T_35ebb250_0c01_11eb_9b74_acde48001122row13_col7 {\n",
       "            background-color:  #eed0c0;\n",
       "            color:  #000000;\n",
       "        }    #T_35ebb250_0c01_11eb_9b74_acde48001122row13_col8 {\n",
       "            background-color:  #516ddb;\n",
       "            color:  #000000;\n",
       "        }    #T_35ebb250_0c01_11eb_9b74_acde48001122row13_col9 {\n",
       "            background-color:  #465ecf;\n",
       "            color:  #f1f1f1;\n",
       "        }    #T_35ebb250_0c01_11eb_9b74_acde48001122row13_col10 {\n",
       "            background-color:  #3b4cc0;\n",
       "            color:  #f1f1f1;\n",
       "        }    #T_35ebb250_0c01_11eb_9b74_acde48001122row13_col11 {\n",
       "            background-color:  #e6d7cf;\n",
       "            color:  #000000;\n",
       "        }    #T_35ebb250_0c01_11eb_9b74_acde48001122row13_col12 {\n",
       "            background-color:  #3b4cc0;\n",
       "            color:  #f1f1f1;\n",
       "        }    #T_35ebb250_0c01_11eb_9b74_acde48001122row13_col13 {\n",
       "            background-color:  #b40426;\n",
       "            color:  #f1f1f1;\n",
       "        }</style><table id=\"T_35ebb250_0c01_11eb_9b74_acde48001122\" ><thead>    <tr>        <th class=\"blank level0\" ></th>        <th class=\"col_heading level0 col0\" >CRIM</th>        <th class=\"col_heading level0 col1\" >ZN</th>        <th class=\"col_heading level0 col2\" >INDUS</th>        <th class=\"col_heading level0 col3\" >CHAS</th>        <th class=\"col_heading level0 col4\" >NOX</th>        <th class=\"col_heading level0 col5\" >RM</th>        <th class=\"col_heading level0 col6\" >AGE</th>        <th class=\"col_heading level0 col7\" >DIS</th>        <th class=\"col_heading level0 col8\" >RAS</th>        <th class=\"col_heading level0 col9\" >TAX</th>        <th class=\"col_heading level0 col10\" >PTRATIO</th>        <th class=\"col_heading level0 col11\" >B</th>        <th class=\"col_heading level0 col12\" >LSTAT</th>        <th class=\"col_heading level0 col13\" >MEDV</th>    </tr></thead><tbody>\n",
       "                <tr>\n",
       "                        <th id=\"T_35ebb250_0c01_11eb_9b74_acde48001122level0_row0\" class=\"row_heading level0 row0\" >CRIM</th>\n",
       "                        <td id=\"T_35ebb250_0c01_11eb_9b74_acde48001122row0_col0\" class=\"data row0 col0\" >1</td>\n",
       "                        <td id=\"T_35ebb250_0c01_11eb_9b74_acde48001122row0_col1\" class=\"data row0 col1\" >-0.2</td>\n",
       "                        <td id=\"T_35ebb250_0c01_11eb_9b74_acde48001122row0_col2\" class=\"data row0 col2\" >0.41</td>\n",
       "                        <td id=\"T_35ebb250_0c01_11eb_9b74_acde48001122row0_col3\" class=\"data row0 col3\" >-0.056</td>\n",
       "                        <td id=\"T_35ebb250_0c01_11eb_9b74_acde48001122row0_col4\" class=\"data row0 col4\" >0.42</td>\n",
       "                        <td id=\"T_35ebb250_0c01_11eb_9b74_acde48001122row0_col5\" class=\"data row0 col5\" >-0.22</td>\n",
       "                        <td id=\"T_35ebb250_0c01_11eb_9b74_acde48001122row0_col6\" class=\"data row0 col6\" >0.35</td>\n",
       "                        <td id=\"T_35ebb250_0c01_11eb_9b74_acde48001122row0_col7\" class=\"data row0 col7\" >-0.38</td>\n",
       "                        <td id=\"T_35ebb250_0c01_11eb_9b74_acde48001122row0_col8\" class=\"data row0 col8\" >0.63</td>\n",
       "                        <td id=\"T_35ebb250_0c01_11eb_9b74_acde48001122row0_col9\" class=\"data row0 col9\" >0.58</td>\n",
       "                        <td id=\"T_35ebb250_0c01_11eb_9b74_acde48001122row0_col10\" class=\"data row0 col10\" >0.29</td>\n",
       "                        <td id=\"T_35ebb250_0c01_11eb_9b74_acde48001122row0_col11\" class=\"data row0 col11\" >-0.39</td>\n",
       "                        <td id=\"T_35ebb250_0c01_11eb_9b74_acde48001122row0_col12\" class=\"data row0 col12\" >0.46</td>\n",
       "                        <td id=\"T_35ebb250_0c01_11eb_9b74_acde48001122row0_col13\" class=\"data row0 col13\" >-0.39</td>\n",
       "            </tr>\n",
       "            <tr>\n",
       "                        <th id=\"T_35ebb250_0c01_11eb_9b74_acde48001122level0_row1\" class=\"row_heading level0 row1\" >ZN</th>\n",
       "                        <td id=\"T_35ebb250_0c01_11eb_9b74_acde48001122row1_col0\" class=\"data row1 col0\" >-0.2</td>\n",
       "                        <td id=\"T_35ebb250_0c01_11eb_9b74_acde48001122row1_col1\" class=\"data row1 col1\" >1</td>\n",
       "                        <td id=\"T_35ebb250_0c01_11eb_9b74_acde48001122row1_col2\" class=\"data row1 col2\" >-0.53</td>\n",
       "                        <td id=\"T_35ebb250_0c01_11eb_9b74_acde48001122row1_col3\" class=\"data row1 col3\" >-0.043</td>\n",
       "                        <td id=\"T_35ebb250_0c01_11eb_9b74_acde48001122row1_col4\" class=\"data row1 col4\" >-0.52</td>\n",
       "                        <td id=\"T_35ebb250_0c01_11eb_9b74_acde48001122row1_col5\" class=\"data row1 col5\" >0.31</td>\n",
       "                        <td id=\"T_35ebb250_0c01_11eb_9b74_acde48001122row1_col6\" class=\"data row1 col6\" >-0.57</td>\n",
       "                        <td id=\"T_35ebb250_0c01_11eb_9b74_acde48001122row1_col7\" class=\"data row1 col7\" >0.66</td>\n",
       "                        <td id=\"T_35ebb250_0c01_11eb_9b74_acde48001122row1_col8\" class=\"data row1 col8\" >-0.31</td>\n",
       "                        <td id=\"T_35ebb250_0c01_11eb_9b74_acde48001122row1_col9\" class=\"data row1 col9\" >-0.31</td>\n",
       "                        <td id=\"T_35ebb250_0c01_11eb_9b74_acde48001122row1_col10\" class=\"data row1 col10\" >-0.39</td>\n",
       "                        <td id=\"T_35ebb250_0c01_11eb_9b74_acde48001122row1_col11\" class=\"data row1 col11\" >0.18</td>\n",
       "                        <td id=\"T_35ebb250_0c01_11eb_9b74_acde48001122row1_col12\" class=\"data row1 col12\" >-0.41</td>\n",
       "                        <td id=\"T_35ebb250_0c01_11eb_9b74_acde48001122row1_col13\" class=\"data row1 col13\" >0.36</td>\n",
       "            </tr>\n",
       "            <tr>\n",
       "                        <th id=\"T_35ebb250_0c01_11eb_9b74_acde48001122level0_row2\" class=\"row_heading level0 row2\" >INDUS</th>\n",
       "                        <td id=\"T_35ebb250_0c01_11eb_9b74_acde48001122row2_col0\" class=\"data row2 col0\" >0.41</td>\n",
       "                        <td id=\"T_35ebb250_0c01_11eb_9b74_acde48001122row2_col1\" class=\"data row2 col1\" >-0.53</td>\n",
       "                        <td id=\"T_35ebb250_0c01_11eb_9b74_acde48001122row2_col2\" class=\"data row2 col2\" >1</td>\n",
       "                        <td id=\"T_35ebb250_0c01_11eb_9b74_acde48001122row2_col3\" class=\"data row2 col3\" >0.063</td>\n",
       "                        <td id=\"T_35ebb250_0c01_11eb_9b74_acde48001122row2_col4\" class=\"data row2 col4\" >0.76</td>\n",
       "                        <td id=\"T_35ebb250_0c01_11eb_9b74_acde48001122row2_col5\" class=\"data row2 col5\" >-0.39</td>\n",
       "                        <td id=\"T_35ebb250_0c01_11eb_9b74_acde48001122row2_col6\" class=\"data row2 col6\" >0.64</td>\n",
       "                        <td id=\"T_35ebb250_0c01_11eb_9b74_acde48001122row2_col7\" class=\"data row2 col7\" >-0.71</td>\n",
       "                        <td id=\"T_35ebb250_0c01_11eb_9b74_acde48001122row2_col8\" class=\"data row2 col8\" >0.6</td>\n",
       "                        <td id=\"T_35ebb250_0c01_11eb_9b74_acde48001122row2_col9\" class=\"data row2 col9\" >0.72</td>\n",
       "                        <td id=\"T_35ebb250_0c01_11eb_9b74_acde48001122row2_col10\" class=\"data row2 col10\" >0.38</td>\n",
       "                        <td id=\"T_35ebb250_0c01_11eb_9b74_acde48001122row2_col11\" class=\"data row2 col11\" >-0.36</td>\n",
       "                        <td id=\"T_35ebb250_0c01_11eb_9b74_acde48001122row2_col12\" class=\"data row2 col12\" >0.6</td>\n",
       "                        <td id=\"T_35ebb250_0c01_11eb_9b74_acde48001122row2_col13\" class=\"data row2 col13\" >-0.48</td>\n",
       "            </tr>\n",
       "            <tr>\n",
       "                        <th id=\"T_35ebb250_0c01_11eb_9b74_acde48001122level0_row3\" class=\"row_heading level0 row3\" >CHAS</th>\n",
       "                        <td id=\"T_35ebb250_0c01_11eb_9b74_acde48001122row3_col0\" class=\"data row3 col0\" >-0.056</td>\n",
       "                        <td id=\"T_35ebb250_0c01_11eb_9b74_acde48001122row3_col1\" class=\"data row3 col1\" >-0.043</td>\n",
       "                        <td id=\"T_35ebb250_0c01_11eb_9b74_acde48001122row3_col2\" class=\"data row3 col2\" >0.063</td>\n",
       "                        <td id=\"T_35ebb250_0c01_11eb_9b74_acde48001122row3_col3\" class=\"data row3 col3\" >1</td>\n",
       "                        <td id=\"T_35ebb250_0c01_11eb_9b74_acde48001122row3_col4\" class=\"data row3 col4\" >0.091</td>\n",
       "                        <td id=\"T_35ebb250_0c01_11eb_9b74_acde48001122row3_col5\" class=\"data row3 col5\" >0.091</td>\n",
       "                        <td id=\"T_35ebb250_0c01_11eb_9b74_acde48001122row3_col6\" class=\"data row3 col6\" >0.087</td>\n",
       "                        <td id=\"T_35ebb250_0c01_11eb_9b74_acde48001122row3_col7\" class=\"data row3 col7\" >-0.099</td>\n",
       "                        <td id=\"T_35ebb250_0c01_11eb_9b74_acde48001122row3_col8\" class=\"data row3 col8\" >-0.0074</td>\n",
       "                        <td id=\"T_35ebb250_0c01_11eb_9b74_acde48001122row3_col9\" class=\"data row3 col9\" >-0.036</td>\n",
       "                        <td id=\"T_35ebb250_0c01_11eb_9b74_acde48001122row3_col10\" class=\"data row3 col10\" >-0.12</td>\n",
       "                        <td id=\"T_35ebb250_0c01_11eb_9b74_acde48001122row3_col11\" class=\"data row3 col11\" >0.049</td>\n",
       "                        <td id=\"T_35ebb250_0c01_11eb_9b74_acde48001122row3_col12\" class=\"data row3 col12\" >-0.054</td>\n",
       "                        <td id=\"T_35ebb250_0c01_11eb_9b74_acde48001122row3_col13\" class=\"data row3 col13\" >0.18</td>\n",
       "            </tr>\n",
       "            <tr>\n",
       "                        <th id=\"T_35ebb250_0c01_11eb_9b74_acde48001122level0_row4\" class=\"row_heading level0 row4\" >NOX</th>\n",
       "                        <td id=\"T_35ebb250_0c01_11eb_9b74_acde48001122row4_col0\" class=\"data row4 col0\" >0.42</td>\n",
       "                        <td id=\"T_35ebb250_0c01_11eb_9b74_acde48001122row4_col1\" class=\"data row4 col1\" >-0.52</td>\n",
       "                        <td id=\"T_35ebb250_0c01_11eb_9b74_acde48001122row4_col2\" class=\"data row4 col2\" >0.76</td>\n",
       "                        <td id=\"T_35ebb250_0c01_11eb_9b74_acde48001122row4_col3\" class=\"data row4 col3\" >0.091</td>\n",
       "                        <td id=\"T_35ebb250_0c01_11eb_9b74_acde48001122row4_col4\" class=\"data row4 col4\" >1</td>\n",
       "                        <td id=\"T_35ebb250_0c01_11eb_9b74_acde48001122row4_col5\" class=\"data row4 col5\" >-0.3</td>\n",
       "                        <td id=\"T_35ebb250_0c01_11eb_9b74_acde48001122row4_col6\" class=\"data row4 col6\" >0.73</td>\n",
       "                        <td id=\"T_35ebb250_0c01_11eb_9b74_acde48001122row4_col7\" class=\"data row4 col7\" >-0.77</td>\n",
       "                        <td id=\"T_35ebb250_0c01_11eb_9b74_acde48001122row4_col8\" class=\"data row4 col8\" >0.61</td>\n",
       "                        <td id=\"T_35ebb250_0c01_11eb_9b74_acde48001122row4_col9\" class=\"data row4 col9\" >0.67</td>\n",
       "                        <td id=\"T_35ebb250_0c01_11eb_9b74_acde48001122row4_col10\" class=\"data row4 col10\" >0.19</td>\n",
       "                        <td id=\"T_35ebb250_0c01_11eb_9b74_acde48001122row4_col11\" class=\"data row4 col11\" >-0.38</td>\n",
       "                        <td id=\"T_35ebb250_0c01_11eb_9b74_acde48001122row4_col12\" class=\"data row4 col12\" >0.59</td>\n",
       "                        <td id=\"T_35ebb250_0c01_11eb_9b74_acde48001122row4_col13\" class=\"data row4 col13\" >-0.43</td>\n",
       "            </tr>\n",
       "            <tr>\n",
       "                        <th id=\"T_35ebb250_0c01_11eb_9b74_acde48001122level0_row5\" class=\"row_heading level0 row5\" >RM</th>\n",
       "                        <td id=\"T_35ebb250_0c01_11eb_9b74_acde48001122row5_col0\" class=\"data row5 col0\" >-0.22</td>\n",
       "                        <td id=\"T_35ebb250_0c01_11eb_9b74_acde48001122row5_col1\" class=\"data row5 col1\" >0.31</td>\n",
       "                        <td id=\"T_35ebb250_0c01_11eb_9b74_acde48001122row5_col2\" class=\"data row5 col2\" >-0.39</td>\n",
       "                        <td id=\"T_35ebb250_0c01_11eb_9b74_acde48001122row5_col3\" class=\"data row5 col3\" >0.091</td>\n",
       "                        <td id=\"T_35ebb250_0c01_11eb_9b74_acde48001122row5_col4\" class=\"data row5 col4\" >-0.3</td>\n",
       "                        <td id=\"T_35ebb250_0c01_11eb_9b74_acde48001122row5_col5\" class=\"data row5 col5\" >1</td>\n",
       "                        <td id=\"T_35ebb250_0c01_11eb_9b74_acde48001122row5_col6\" class=\"data row5 col6\" >-0.24</td>\n",
       "                        <td id=\"T_35ebb250_0c01_11eb_9b74_acde48001122row5_col7\" class=\"data row5 col7\" >0.21</td>\n",
       "                        <td id=\"T_35ebb250_0c01_11eb_9b74_acde48001122row5_col8\" class=\"data row5 col8\" >-0.21</td>\n",
       "                        <td id=\"T_35ebb250_0c01_11eb_9b74_acde48001122row5_col9\" class=\"data row5 col9\" >-0.29</td>\n",
       "                        <td id=\"T_35ebb250_0c01_11eb_9b74_acde48001122row5_col10\" class=\"data row5 col10\" >-0.36</td>\n",
       "                        <td id=\"T_35ebb250_0c01_11eb_9b74_acde48001122row5_col11\" class=\"data row5 col11\" >0.13</td>\n",
       "                        <td id=\"T_35ebb250_0c01_11eb_9b74_acde48001122row5_col12\" class=\"data row5 col12\" >-0.61</td>\n",
       "                        <td id=\"T_35ebb250_0c01_11eb_9b74_acde48001122row5_col13\" class=\"data row5 col13\" >0.7</td>\n",
       "            </tr>\n",
       "            <tr>\n",
       "                        <th id=\"T_35ebb250_0c01_11eb_9b74_acde48001122level0_row6\" class=\"row_heading level0 row6\" >AGE</th>\n",
       "                        <td id=\"T_35ebb250_0c01_11eb_9b74_acde48001122row6_col0\" class=\"data row6 col0\" >0.35</td>\n",
       "                        <td id=\"T_35ebb250_0c01_11eb_9b74_acde48001122row6_col1\" class=\"data row6 col1\" >-0.57</td>\n",
       "                        <td id=\"T_35ebb250_0c01_11eb_9b74_acde48001122row6_col2\" class=\"data row6 col2\" >0.64</td>\n",
       "                        <td id=\"T_35ebb250_0c01_11eb_9b74_acde48001122row6_col3\" class=\"data row6 col3\" >0.087</td>\n",
       "                        <td id=\"T_35ebb250_0c01_11eb_9b74_acde48001122row6_col4\" class=\"data row6 col4\" >0.73</td>\n",
       "                        <td id=\"T_35ebb250_0c01_11eb_9b74_acde48001122row6_col5\" class=\"data row6 col5\" >-0.24</td>\n",
       "                        <td id=\"T_35ebb250_0c01_11eb_9b74_acde48001122row6_col6\" class=\"data row6 col6\" >1</td>\n",
       "                        <td id=\"T_35ebb250_0c01_11eb_9b74_acde48001122row6_col7\" class=\"data row6 col7\" >-0.75</td>\n",
       "                        <td id=\"T_35ebb250_0c01_11eb_9b74_acde48001122row6_col8\" class=\"data row6 col8\" >0.46</td>\n",
       "                        <td id=\"T_35ebb250_0c01_11eb_9b74_acde48001122row6_col9\" class=\"data row6 col9\" >0.51</td>\n",
       "                        <td id=\"T_35ebb250_0c01_11eb_9b74_acde48001122row6_col10\" class=\"data row6 col10\" >0.26</td>\n",
       "                        <td id=\"T_35ebb250_0c01_11eb_9b74_acde48001122row6_col11\" class=\"data row6 col11\" >-0.27</td>\n",
       "                        <td id=\"T_35ebb250_0c01_11eb_9b74_acde48001122row6_col12\" class=\"data row6 col12\" >0.6</td>\n",
       "                        <td id=\"T_35ebb250_0c01_11eb_9b74_acde48001122row6_col13\" class=\"data row6 col13\" >-0.38</td>\n",
       "            </tr>\n",
       "            <tr>\n",
       "                        <th id=\"T_35ebb250_0c01_11eb_9b74_acde48001122level0_row7\" class=\"row_heading level0 row7\" >DIS</th>\n",
       "                        <td id=\"T_35ebb250_0c01_11eb_9b74_acde48001122row7_col0\" class=\"data row7 col0\" >-0.38</td>\n",
       "                        <td id=\"T_35ebb250_0c01_11eb_9b74_acde48001122row7_col1\" class=\"data row7 col1\" >0.66</td>\n",
       "                        <td id=\"T_35ebb250_0c01_11eb_9b74_acde48001122row7_col2\" class=\"data row7 col2\" >-0.71</td>\n",
       "                        <td id=\"T_35ebb250_0c01_11eb_9b74_acde48001122row7_col3\" class=\"data row7 col3\" >-0.099</td>\n",
       "                        <td id=\"T_35ebb250_0c01_11eb_9b74_acde48001122row7_col4\" class=\"data row7 col4\" >-0.77</td>\n",
       "                        <td id=\"T_35ebb250_0c01_11eb_9b74_acde48001122row7_col5\" class=\"data row7 col5\" >0.21</td>\n",
       "                        <td id=\"T_35ebb250_0c01_11eb_9b74_acde48001122row7_col6\" class=\"data row7 col6\" >-0.75</td>\n",
       "                        <td id=\"T_35ebb250_0c01_11eb_9b74_acde48001122row7_col7\" class=\"data row7 col7\" >1</td>\n",
       "                        <td id=\"T_35ebb250_0c01_11eb_9b74_acde48001122row7_col8\" class=\"data row7 col8\" >-0.49</td>\n",
       "                        <td id=\"T_35ebb250_0c01_11eb_9b74_acde48001122row7_col9\" class=\"data row7 col9\" >-0.53</td>\n",
       "                        <td id=\"T_35ebb250_0c01_11eb_9b74_acde48001122row7_col10\" class=\"data row7 col10\" >-0.23</td>\n",
       "                        <td id=\"T_35ebb250_0c01_11eb_9b74_acde48001122row7_col11\" class=\"data row7 col11\" >0.29</td>\n",
       "                        <td id=\"T_35ebb250_0c01_11eb_9b74_acde48001122row7_col12\" class=\"data row7 col12\" >-0.5</td>\n",
       "                        <td id=\"T_35ebb250_0c01_11eb_9b74_acde48001122row7_col13\" class=\"data row7 col13\" >0.25</td>\n",
       "            </tr>\n",
       "            <tr>\n",
       "                        <th id=\"T_35ebb250_0c01_11eb_9b74_acde48001122level0_row8\" class=\"row_heading level0 row8\" >RAS</th>\n",
       "                        <td id=\"T_35ebb250_0c01_11eb_9b74_acde48001122row8_col0\" class=\"data row8 col0\" >0.63</td>\n",
       "                        <td id=\"T_35ebb250_0c01_11eb_9b74_acde48001122row8_col1\" class=\"data row8 col1\" >-0.31</td>\n",
       "                        <td id=\"T_35ebb250_0c01_11eb_9b74_acde48001122row8_col2\" class=\"data row8 col2\" >0.6</td>\n",
       "                        <td id=\"T_35ebb250_0c01_11eb_9b74_acde48001122row8_col3\" class=\"data row8 col3\" >-0.0074</td>\n",
       "                        <td id=\"T_35ebb250_0c01_11eb_9b74_acde48001122row8_col4\" class=\"data row8 col4\" >0.61</td>\n",
       "                        <td id=\"T_35ebb250_0c01_11eb_9b74_acde48001122row8_col5\" class=\"data row8 col5\" >-0.21</td>\n",
       "                        <td id=\"T_35ebb250_0c01_11eb_9b74_acde48001122row8_col6\" class=\"data row8 col6\" >0.46</td>\n",
       "                        <td id=\"T_35ebb250_0c01_11eb_9b74_acde48001122row8_col7\" class=\"data row8 col7\" >-0.49</td>\n",
       "                        <td id=\"T_35ebb250_0c01_11eb_9b74_acde48001122row8_col8\" class=\"data row8 col8\" >1</td>\n",
       "                        <td id=\"T_35ebb250_0c01_11eb_9b74_acde48001122row8_col9\" class=\"data row8 col9\" >0.91</td>\n",
       "                        <td id=\"T_35ebb250_0c01_11eb_9b74_acde48001122row8_col10\" class=\"data row8 col10\" >0.46</td>\n",
       "                        <td id=\"T_35ebb250_0c01_11eb_9b74_acde48001122row8_col11\" class=\"data row8 col11\" >-0.44</td>\n",
       "                        <td id=\"T_35ebb250_0c01_11eb_9b74_acde48001122row8_col12\" class=\"data row8 col12\" >0.49</td>\n",
       "                        <td id=\"T_35ebb250_0c01_11eb_9b74_acde48001122row8_col13\" class=\"data row8 col13\" >-0.38</td>\n",
       "            </tr>\n",
       "            <tr>\n",
       "                        <th id=\"T_35ebb250_0c01_11eb_9b74_acde48001122level0_row9\" class=\"row_heading level0 row9\" >TAX</th>\n",
       "                        <td id=\"T_35ebb250_0c01_11eb_9b74_acde48001122row9_col0\" class=\"data row9 col0\" >0.58</td>\n",
       "                        <td id=\"T_35ebb250_0c01_11eb_9b74_acde48001122row9_col1\" class=\"data row9 col1\" >-0.31</td>\n",
       "                        <td id=\"T_35ebb250_0c01_11eb_9b74_acde48001122row9_col2\" class=\"data row9 col2\" >0.72</td>\n",
       "                        <td id=\"T_35ebb250_0c01_11eb_9b74_acde48001122row9_col3\" class=\"data row9 col3\" >-0.036</td>\n",
       "                        <td id=\"T_35ebb250_0c01_11eb_9b74_acde48001122row9_col4\" class=\"data row9 col4\" >0.67</td>\n",
       "                        <td id=\"T_35ebb250_0c01_11eb_9b74_acde48001122row9_col5\" class=\"data row9 col5\" >-0.29</td>\n",
       "                        <td id=\"T_35ebb250_0c01_11eb_9b74_acde48001122row9_col6\" class=\"data row9 col6\" >0.51</td>\n",
       "                        <td id=\"T_35ebb250_0c01_11eb_9b74_acde48001122row9_col7\" class=\"data row9 col7\" >-0.53</td>\n",
       "                        <td id=\"T_35ebb250_0c01_11eb_9b74_acde48001122row9_col8\" class=\"data row9 col8\" >0.91</td>\n",
       "                        <td id=\"T_35ebb250_0c01_11eb_9b74_acde48001122row9_col9\" class=\"data row9 col9\" >1</td>\n",
       "                        <td id=\"T_35ebb250_0c01_11eb_9b74_acde48001122row9_col10\" class=\"data row9 col10\" >0.46</td>\n",
       "                        <td id=\"T_35ebb250_0c01_11eb_9b74_acde48001122row9_col11\" class=\"data row9 col11\" >-0.44</td>\n",
       "                        <td id=\"T_35ebb250_0c01_11eb_9b74_acde48001122row9_col12\" class=\"data row9 col12\" >0.54</td>\n",
       "                        <td id=\"T_35ebb250_0c01_11eb_9b74_acde48001122row9_col13\" class=\"data row9 col13\" >-0.47</td>\n",
       "            </tr>\n",
       "            <tr>\n",
       "                        <th id=\"T_35ebb250_0c01_11eb_9b74_acde48001122level0_row10\" class=\"row_heading level0 row10\" >PTRATIO</th>\n",
       "                        <td id=\"T_35ebb250_0c01_11eb_9b74_acde48001122row10_col0\" class=\"data row10 col0\" >0.29</td>\n",
       "                        <td id=\"T_35ebb250_0c01_11eb_9b74_acde48001122row10_col1\" class=\"data row10 col1\" >-0.39</td>\n",
       "                        <td id=\"T_35ebb250_0c01_11eb_9b74_acde48001122row10_col2\" class=\"data row10 col2\" >0.38</td>\n",
       "                        <td id=\"T_35ebb250_0c01_11eb_9b74_acde48001122row10_col3\" class=\"data row10 col3\" >-0.12</td>\n",
       "                        <td id=\"T_35ebb250_0c01_11eb_9b74_acde48001122row10_col4\" class=\"data row10 col4\" >0.19</td>\n",
       "                        <td id=\"T_35ebb250_0c01_11eb_9b74_acde48001122row10_col5\" class=\"data row10 col5\" >-0.36</td>\n",
       "                        <td id=\"T_35ebb250_0c01_11eb_9b74_acde48001122row10_col6\" class=\"data row10 col6\" >0.26</td>\n",
       "                        <td id=\"T_35ebb250_0c01_11eb_9b74_acde48001122row10_col7\" class=\"data row10 col7\" >-0.23</td>\n",
       "                        <td id=\"T_35ebb250_0c01_11eb_9b74_acde48001122row10_col8\" class=\"data row10 col8\" >0.46</td>\n",
       "                        <td id=\"T_35ebb250_0c01_11eb_9b74_acde48001122row10_col9\" class=\"data row10 col9\" >0.46</td>\n",
       "                        <td id=\"T_35ebb250_0c01_11eb_9b74_acde48001122row10_col10\" class=\"data row10 col10\" >1</td>\n",
       "                        <td id=\"T_35ebb250_0c01_11eb_9b74_acde48001122row10_col11\" class=\"data row10 col11\" >-0.18</td>\n",
       "                        <td id=\"T_35ebb250_0c01_11eb_9b74_acde48001122row10_col12\" class=\"data row10 col12\" >0.37</td>\n",
       "                        <td id=\"T_35ebb250_0c01_11eb_9b74_acde48001122row10_col13\" class=\"data row10 col13\" >-0.51</td>\n",
       "            </tr>\n",
       "            <tr>\n",
       "                        <th id=\"T_35ebb250_0c01_11eb_9b74_acde48001122level0_row11\" class=\"row_heading level0 row11\" >B</th>\n",
       "                        <td id=\"T_35ebb250_0c01_11eb_9b74_acde48001122row11_col0\" class=\"data row11 col0\" >-0.39</td>\n",
       "                        <td id=\"T_35ebb250_0c01_11eb_9b74_acde48001122row11_col1\" class=\"data row11 col1\" >0.18</td>\n",
       "                        <td id=\"T_35ebb250_0c01_11eb_9b74_acde48001122row11_col2\" class=\"data row11 col2\" >-0.36</td>\n",
       "                        <td id=\"T_35ebb250_0c01_11eb_9b74_acde48001122row11_col3\" class=\"data row11 col3\" >0.049</td>\n",
       "                        <td id=\"T_35ebb250_0c01_11eb_9b74_acde48001122row11_col4\" class=\"data row11 col4\" >-0.38</td>\n",
       "                        <td id=\"T_35ebb250_0c01_11eb_9b74_acde48001122row11_col5\" class=\"data row11 col5\" >0.13</td>\n",
       "                        <td id=\"T_35ebb250_0c01_11eb_9b74_acde48001122row11_col6\" class=\"data row11 col6\" >-0.27</td>\n",
       "                        <td id=\"T_35ebb250_0c01_11eb_9b74_acde48001122row11_col7\" class=\"data row11 col7\" >0.29</td>\n",
       "                        <td id=\"T_35ebb250_0c01_11eb_9b74_acde48001122row11_col8\" class=\"data row11 col8\" >-0.44</td>\n",
       "                        <td id=\"T_35ebb250_0c01_11eb_9b74_acde48001122row11_col9\" class=\"data row11 col9\" >-0.44</td>\n",
       "                        <td id=\"T_35ebb250_0c01_11eb_9b74_acde48001122row11_col10\" class=\"data row11 col10\" >-0.18</td>\n",
       "                        <td id=\"T_35ebb250_0c01_11eb_9b74_acde48001122row11_col11\" class=\"data row11 col11\" >1</td>\n",
       "                        <td id=\"T_35ebb250_0c01_11eb_9b74_acde48001122row11_col12\" class=\"data row11 col12\" >-0.37</td>\n",
       "                        <td id=\"T_35ebb250_0c01_11eb_9b74_acde48001122row11_col13\" class=\"data row11 col13\" >0.33</td>\n",
       "            </tr>\n",
       "            <tr>\n",
       "                        <th id=\"T_35ebb250_0c01_11eb_9b74_acde48001122level0_row12\" class=\"row_heading level0 row12\" >LSTAT</th>\n",
       "                        <td id=\"T_35ebb250_0c01_11eb_9b74_acde48001122row12_col0\" class=\"data row12 col0\" >0.46</td>\n",
       "                        <td id=\"T_35ebb250_0c01_11eb_9b74_acde48001122row12_col1\" class=\"data row12 col1\" >-0.41</td>\n",
       "                        <td id=\"T_35ebb250_0c01_11eb_9b74_acde48001122row12_col2\" class=\"data row12 col2\" >0.6</td>\n",
       "                        <td id=\"T_35ebb250_0c01_11eb_9b74_acde48001122row12_col3\" class=\"data row12 col3\" >-0.054</td>\n",
       "                        <td id=\"T_35ebb250_0c01_11eb_9b74_acde48001122row12_col4\" class=\"data row12 col4\" >0.59</td>\n",
       "                        <td id=\"T_35ebb250_0c01_11eb_9b74_acde48001122row12_col5\" class=\"data row12 col5\" >-0.61</td>\n",
       "                        <td id=\"T_35ebb250_0c01_11eb_9b74_acde48001122row12_col6\" class=\"data row12 col6\" >0.6</td>\n",
       "                        <td id=\"T_35ebb250_0c01_11eb_9b74_acde48001122row12_col7\" class=\"data row12 col7\" >-0.5</td>\n",
       "                        <td id=\"T_35ebb250_0c01_11eb_9b74_acde48001122row12_col8\" class=\"data row12 col8\" >0.49</td>\n",
       "                        <td id=\"T_35ebb250_0c01_11eb_9b74_acde48001122row12_col9\" class=\"data row12 col9\" >0.54</td>\n",
       "                        <td id=\"T_35ebb250_0c01_11eb_9b74_acde48001122row12_col10\" class=\"data row12 col10\" >0.37</td>\n",
       "                        <td id=\"T_35ebb250_0c01_11eb_9b74_acde48001122row12_col11\" class=\"data row12 col11\" >-0.37</td>\n",
       "                        <td id=\"T_35ebb250_0c01_11eb_9b74_acde48001122row12_col12\" class=\"data row12 col12\" >1</td>\n",
       "                        <td id=\"T_35ebb250_0c01_11eb_9b74_acde48001122row12_col13\" class=\"data row12 col13\" >-0.74</td>\n",
       "            </tr>\n",
       "            <tr>\n",
       "                        <th id=\"T_35ebb250_0c01_11eb_9b74_acde48001122level0_row13\" class=\"row_heading level0 row13\" >MEDV</th>\n",
       "                        <td id=\"T_35ebb250_0c01_11eb_9b74_acde48001122row13_col0\" class=\"data row13 col0\" >-0.39</td>\n",
       "                        <td id=\"T_35ebb250_0c01_11eb_9b74_acde48001122row13_col1\" class=\"data row13 col1\" >0.36</td>\n",
       "                        <td id=\"T_35ebb250_0c01_11eb_9b74_acde48001122row13_col2\" class=\"data row13 col2\" >-0.48</td>\n",
       "                        <td id=\"T_35ebb250_0c01_11eb_9b74_acde48001122row13_col3\" class=\"data row13 col3\" >0.18</td>\n",
       "                        <td id=\"T_35ebb250_0c01_11eb_9b74_acde48001122row13_col4\" class=\"data row13 col4\" >-0.43</td>\n",
       "                        <td id=\"T_35ebb250_0c01_11eb_9b74_acde48001122row13_col5\" class=\"data row13 col5\" >0.7</td>\n",
       "                        <td id=\"T_35ebb250_0c01_11eb_9b74_acde48001122row13_col6\" class=\"data row13 col6\" >-0.38</td>\n",
       "                        <td id=\"T_35ebb250_0c01_11eb_9b74_acde48001122row13_col7\" class=\"data row13 col7\" >0.25</td>\n",
       "                        <td id=\"T_35ebb250_0c01_11eb_9b74_acde48001122row13_col8\" class=\"data row13 col8\" >-0.38</td>\n",
       "                        <td id=\"T_35ebb250_0c01_11eb_9b74_acde48001122row13_col9\" class=\"data row13 col9\" >-0.47</td>\n",
       "                        <td id=\"T_35ebb250_0c01_11eb_9b74_acde48001122row13_col10\" class=\"data row13 col10\" >-0.51</td>\n",
       "                        <td id=\"T_35ebb250_0c01_11eb_9b74_acde48001122row13_col11\" class=\"data row13 col11\" >0.33</td>\n",
       "                        <td id=\"T_35ebb250_0c01_11eb_9b74_acde48001122row13_col12\" class=\"data row13 col12\" >-0.74</td>\n",
       "                        <td id=\"T_35ebb250_0c01_11eb_9b74_acde48001122row13_col13\" class=\"data row13 col13\" >1</td>\n",
       "            </tr>\n",
       "    </tbody></table>"
      ],
      "text/plain": [
       "<pandas.io.formats.style.Styler at 0x7fc77c9b3250>"
      ]
     },
     "execution_count": 23,
     "metadata": {},
     "output_type": "execute_result"
    }
   ],
   "source": [
    "corr = df_boston_norm.corr()\n",
    "corr.style.background_gradient(cmap='coolwarm').set_precision(2)"
   ]
  },
  {
   "cell_type": "markdown",
   "metadata": {},
   "source": [
    "<div style=\"background-color: #EDF7FF; border-color: #7C9DBF; border-left: 5px solid #7C9DBF; padding: 0.5em;\">\n",
    "<strong>Ejercicio:</strong><br>\n",
    "Identificad los 2 atributos que tienen una correlación más fuerte con la respuesta y los 2 con una correlación más débil (coeficiente de correlación mayor o menor en valor absoluto).\n",
    "    \n",
    "Para observar y analizar las correlaciones gráficamente, representad, para cada uno de los 4 atributos identificados, un scatter plot con el atributo en el eje x y la respuesta en el eje y. Además, en cada gráfico añadid la representación de una regresión lineal que fite los puntos.\n",
    "        \n",
    "<hr>Sugerencia: podéis usar la función \"regplot\" de la librería 'seaborn'.\n",
    "</div>"
   ]
  },
  {
   "cell_type": "markdown",
   "metadata": {},
   "source": [
    "Los dos atributos con mayor correlación son: LSTAT y RM\n",
    "\n",
    "Los dos atributos con menor correlación son: B y DIS"
   ]
  },
  {
   "cell_type": "code",
   "execution_count": 24,
   "metadata": {
    "scrolled": true
   },
   "outputs": [
    {
     "data": {
      "image/png": "[encoded data removed]",
      "text/plain": [
       "<Figure size 432x288 with 1 Axes>"
      ]
     },
     "metadata": {
      "needs_background": "light"
     },
     "output_type": "display_data"
    }
   ],
   "source": [
    "medv = df_boston_norm[\"MEDV\"]\n",
    "lstat = df_normalized[\"LSTAT\"]\n",
    "\n",
    "sns.regplot(x = medv,  \n",
    "            y = lstat,  \n",
    "            data = df_boston_norm)\n",
    "plt.title(\"LSTAT vs MEDV\")\n",
    "plt.show()"
   ]
  },
  {
   "cell_type": "code",
   "execution_count": 25,
   "metadata": {},
   "outputs": [
    {
     "data": {
      "image/png": "[encoded data removed]",
      "text/plain": [
       "<Figure size 432x288 with 1 Axes>"
      ]
     },
     "metadata": {
      "needs_background": "light"
     },
     "output_type": "display_data"
    }
   ],
   "source": [
    "medv = df_boston_norm[\"MEDV\"]\n",
    "rm = df_normalized[\"RM\"]\n",
    "\n",
    "sns.regplot(x = medv,  \n",
    "            y = rm,  \n",
    "            data = df_boston_norm)\n",
    "plt.title(\"MEDV vs RM\")\n",
    "plt.show()"
   ]
  },
  {
   "cell_type": "code",
   "execution_count": 26,
   "metadata": {},
   "outputs": [
    {
     "data": {
      "image/png": "[encoded data removed]",
      "text/plain": [
       "<Figure size 432x288 with 1 Axes>"
      ]
     },
     "metadata": {
      "needs_background": "light"
     },
     "output_type": "display_data"
    }
   ],
   "source": [
    "medv = df_boston_norm[\"MEDV\"]\n",
    "dis = df_normalized[\"DIS\"]\n",
    "\n",
    "sns.regplot(x = medv,  \n",
    "            y = dis,  \n",
    "            data = df_boston_norm)\n",
    "plt.title(\"MEDV vs DIS\")\n",
    "plt.show()"
   ]
  },
  {
   "cell_type": "code",
   "execution_count": 27,
   "metadata": {},
   "outputs": [
    {
     "data": {
      "image/png": "[encoded data removed]",
      "text/plain": [
       "<Figure size 432x288 with 1 Axes>"
      ]
     },
     "metadata": {
      "needs_background": "light"
     },
     "output_type": "display_data"
    }
   ],
   "source": [
    "medv = df_boston_norm[\"MEDV\"]\n",
    "b = df_normalized[\"B\"]\n",
    "\n",
    "sns.regplot(x = medv,  \n",
    "            y = b,  \n",
    "            data = df_boston_norm)\n",
    "plt.title(\"MEDV vs B\")\n",
    "plt.show()"
   ]
  },
  {
   "cell_type": "markdown",
   "metadata": {},
   "source": [
    "<div style=\"background-color: #EDF7FF; border-color: #7C9DBF; border-left: 5px solid #7C9DBF; padding: 0.5em;\">\n",
    "<strong>Análisis:</strong>\n",
    "<br> Observando los gráficos, comentad brevemente si conseguís ver las altas o bajas correlaciones que habíais identificado numéricamente.\n",
    "</div>"
   ]
  },
  {
   "cell_type": "markdown",
   "metadata": {},
   "source": [
    "Se observa que los valores numéricos de la correlación coinciden con las representaciones gráficas. Es probable, que despues de realizar una limpieza de datos y un tratamientos de los datos outliers se pueda encontrar una mayor correlación, que se traduzca en un aumento numérico y una representación gráfica más representativa. "
   ]
  },
  {
   "cell_type": "markdown",
   "metadata": {},
   "source": [
    "# 3. Reducción de la dimensionalidad (2 puntos)\n",
    "\n",
    "En este ejercicio se aplicarán métodos de reducción de la dimensionalidad al conjunto original de datos. El objetivo es reducir el conjunto de atributos a un nuevo conjunto con menos dimensiones, pero que contengan la máxima información posible presente en los atributos originales."
   ]
  },
  {
   "cell_type": "markdown",
   "metadata": {},
   "source": [
    "<div style=\"background-color: #EDF7FF; border-color: #7C9DBF; border-left: 5px solid #7C9DBF; padding: 0.5em;\">\n",
    "<strong>Ejercicio:</strong><br>\n",
    "<ul>\n",
    "    <li>Aplicad el método de reducción de la dimensionalidad Principal Component Analysis (PCA) para reducir a 2 dimensiones el dataset original que contiene todos los atributos.</li>\n",
    "    <li>Generad un gráfico con el resultado del PCA en el que se muestre, en función de los valores de las dos componentes en los ejes x e y, el valor de la respuesta MEDV usando la escala de colores. El objetivo es visualizar la variación de MEDV en función de los valores de las componentes principales generadas.</li>\n",
    "</ul>\n",
    "    \n",
    "NOTA: Vigilad de no incluir la variable objetivo \"MEDV\" en la reducción de dimensionalidad. Queremos poder explicar la variable objetivo en función del resto de variables reducidas a dos dimensiones.\n",
    "\n",
    "<hr>\n",
    "Sugerencia: no es necesario que programéis el algoritmo de PCA, podéis usar la implementación disponible en la librería de \"scikit-learn\".<br>\n",
    "Sugerencia: para el gráfico, podéis usar el scatter plot de matplotlib con el parámetro \"c\", que indica el color de los puntos, igual a la variable objetivo.\n",
    "</div>"
   ]
  },
  {
   "cell_type": "markdown",
   "metadata": {},
   "source": [
    "Para realizar una reducción de la dimensionalidad con éxito es necesario: \n",
    "    \n",
    "1) Escalar el dataframe de interés\n",
    "\n",
    "2) Calcular la matriz de covarianza. La matriz de covarianza se calcula para ver qué variables tienen una fuerte dependencia entre si. Una covarianza positiva indica una proporcionalidad directa, mientras que una covarianza negativa indica una proporcionalidad inversa. \n",
    "\n",
    "3)Calcular los vectores propios y valores propios (eigenvectors y eigenvalues). Los vectores propios con aquellos vectores que después de sufrir una transformación lineal no sufren cambio en la dirección. Los valores propios son los módulos de los vectores propios. \n",
    "\n",
    "Estos valores son los que son computados por la matriz de covarianza para determinar los componentes principales del dataset.\n",
    "\n",
    "4) Ordenar los vectores y valores propios en orden descendente, donde el vector propio con mayor valor propio es el mñas significativo y representan el primer componente principal (PC1). El segundo componente principal (PC2) será el siguiente con el valor propio mayor, y asi sucesivamente.\n",
    "\n",
    "5) Reducir la dimensionalidad del dataset. "
   ]
  },
  {
   "cell_type": "code",
   "execution_count": 28,
   "metadata": {},
   "outputs": [
    {
     "data": {
      "text/plain": [
       "13"
      ]
     },
     "execution_count": 28,
     "metadata": {},
     "output_type": "execute_result"
    }
   ],
   "source": [
    "boston_pca_df = boston_df.drop('MEDV', 1)\n",
    "len(boston_pca_df.columns)"
   ]
  },
  {
   "cell_type": "code",
   "execution_count": 29,
   "metadata": {},
   "outputs": [
    {
     "data": {
      "text/plain": [
       "StandardScaler(copy=True, with_mean=True, with_std=True)"
      ]
     },
     "execution_count": 29,
     "metadata": {},
     "output_type": "execute_result"
    }
   ],
   "source": [
    "scaler = preprocessing.StandardScaler()\n",
    "scaler.fit(boston_pca_df)"
   ]
  },
  {
   "cell_type": "code",
   "execution_count": 30,
   "metadata": {},
   "outputs": [
    {
     "data": {
      "text/plain": [
       "PCA(copy=True, iterated_power='auto', n_components=2, random_state=None,\n",
       "    svd_solver='auto', tol=0.0, whiten=False)"
      ]
     },
     "execution_count": 30,
     "metadata": {},
     "output_type": "execute_result"
    }
   ],
   "source": [
    "boston_pca_df_scaled = scaler.transform(boston_pca_df)\n",
    "pca = PCA(n_components=2)\n",
    "\n",
    "\n",
    "pca.fit(boston_pca_df_scaled)"
   ]
  },
  {
   "cell_type": "code",
   "execution_count": 31,
   "metadata": {},
   "outputs": [
    {
     "name": "stdout",
     "output_type": "stream",
     "text": [
      "PCA done! Time elapsed: 0.00043082237243652344 seconds\n"
     ]
    },
    {
     "data": {
      "text/plain": [
       "(506, 2)"
      ]
     },
     "execution_count": 31,
     "metadata": {},
     "output_type": "execute_result"
    }
   ],
   "source": [
    "import time \n",
    "\n",
    "time_start = time.time()\n",
    "reduced_pca = pca.transform(boston_pca_df_scaled)\n",
    "print('PCA done! Time elapsed: {} seconds'.format(time.time()-time_start))\n",
    "\n",
    "reduced_pca.shape #df reducido a 2 dimensiones"
   ]
  },
  {
   "cell_type": "code",
   "execution_count": 32,
   "metadata": {},
   "outputs": [
    {
     "data": {
      "text/plain": [
       "(506, 13)"
      ]
     },
     "execution_count": 32,
     "metadata": {},
     "output_type": "execute_result"
    }
   ],
   "source": [
    "boston_pca_df_scaled.shape"
   ]
  },
  {
   "cell_type": "code",
   "execution_count": 33,
   "metadata": {},
   "outputs": [],
   "source": [
    "principalDf = pd.DataFrame(data= reduced_pca, columns = ['PC1', 'PC2'])\n"
   ]
  },
  {
   "cell_type": "code",
   "execution_count": 34,
   "metadata": {},
   "outputs": [
    {
     "data": {
      "image/png": "[encoded data removed]",
      "text/plain": [
       "<Figure size 720x576 with 1 Axes>"
      ]
     },
     "metadata": {
      "needs_background": "light"
     },
     "output_type": "display_data"
    }
   ],
   "source": [
    "plt.figure(figsize=(10, 8))\n",
    "plt.scatter(reduced_pca[:,0], reduced_pca[:,1], c=boston_df[\"MEDV\"])\n",
    "plt.xlabel(\"First principle component\")\n",
    "plt.ylabel(\"Second principle component\")\n",
    "\n",
    "plt.show()"
   ]
  },
  {
   "cell_type": "markdown",
   "metadata": {},
   "source": [
    "<div style=\"background-color: #EDF7FF; border-color: #7C9DBF; border-left: 5px solid #7C9DBF; padding: 0.5em;\">\n",
    "<strong>Ejercicio:</strong><br>\n",
    "<ul>\n",
    "    <li>Repetid la reducción de dimensionalidad, pero en este caso usando TSNE.  Podéis encontrar más información sobre este algoritmo en el link: <a href=\"https://distill.pub/2016/misread-tsne\">https://distill.pub/2016/misread-tsne/</a></li>\n",
    "    <li>Igual que antes, generad un gráfico con el resultado del TSNE en el que se muestre, en función de los valores de las 2 nuevas dimensiones en los ejes x e y, el valor de la respuesta MEDV usando una escala de colores.</li>\n",
    "</ul>\n",
    "\n",
    "<hr>\n",
    "Sugerencia: no es necesario que programéis el algoritmo TSNE, podéis usar la implementación disponible en la librería de \"scikit-learn\".<br>\n",
    "Sugerencia: a parte de especificar el número de componentes, probad de usar el parámetro \"perplexity\".<br>\n",
    "Sugerencia: para el gráfico, podéis usar el scatter plot de matplotlib con el parámetro \"c\", que indica el color de los puntos, igual a la variable objetivo.\n",
    "</div>"
   ]
  },
  {
   "cell_type": "code",
   "execution_count": 35,
   "metadata": {},
   "outputs": [
    {
     "name": "stdout",
     "output_type": "stream",
     "text": [
      "t-SNE done! Time elapsed: 4.71972393989563 seconds\n"
     ]
    }
   ],
   "source": [
    "df_subset = boston_pca_df_scaled.copy()\n",
    "\n",
    "time_start = time.time()\n",
    "tsne = TSNE(n_components=2, perplexity=30, n_iter=5000)\n",
    "tsne_results = tsne.fit_transform(df_subset)\n",
    "\n",
    "print('t-SNE done! Time elapsed: {} seconds'.format(time.time()-time_start))"
   ]
  },
  {
   "cell_type": "code",
   "execution_count": 36,
   "metadata": {},
   "outputs": [
    {
     "data": {
      "image/png": "[encoded data removed]",
      "text/plain": [
       "<Figure size 720x576 with 1 Axes>"
      ]
     },
     "metadata": {
      "needs_background": "light"
     },
     "output_type": "display_data"
    }
   ],
   "source": [
    "plt.figure(figsize=(10,8))\n",
    "\n",
    "plt.scatter(tsne_results[:,0], tsne_results[:,1], c=boston_df[\"MEDV\"])\n",
    "plt.show()"
   ]
  },
  {
   "cell_type": "markdown",
   "metadata": {},
   "source": [
    "<div style=\"background-color: #EDF7FF; border-color: #7C9DBF; border-left: 5px solid #7C9DBF; padding: 0.5em;\">\n",
    "<strong>Análisis:</strong>\n",
    "<br> Observando los dos gráficos, ¿creéis que ha funcionado bien la reducción de dimensionalidad? ¿Os parece que las 2 nuevas dimensiones consiguen explicar la variación de MEDV y visualizar diferenciadamente precios caros y baratos? ¿Si utilizásemos las 2 nuevas variables para predecir MEDV, con cuál de los dos métodos de reducción de dimensionalidad creéis que obtendríamos los mejores resultados?\n",
    "    \n",
    "¿Por qué obtenemos resultados tan diferentes con los dos métodos?\n",
    "</div>"
   ]
  },
  {
   "cell_type": "markdown",
   "metadata": {},
   "source": [
    "Creo que la reducción de la dimensionalidad no ha logrado crear 2 dimensiones significativamente diferentes como para poder obtener resultados y predicciones de calidad en el modelo. Por ello, creo que es muy difícil observar la correlación entre el precio de las viviendas y el resto de variables, ya que a priori no parece haber ninguna variable con el peso suficiente en 2 dimensiones. \n",
    "\n",
    "Es difícil saber con qué metodo obtendríamos mejores resultados, ya que parten de bases matemáticas algo distintas. Si hay que decantarse por uno, yo usaría el PCA ya que el coste computacional es menor (menor tiempo de computación) y no depende de setear previamente un argumento de la función como perplexity, que permite decirle al algoritmo previamente el numero de posibles vecinos cercanos de cada punto. Esto último confiere a los resultados de una variabilidad difícil de evaluar. \n",
    "\n",
    "Los resultados diferentes se deben a la naturaleza matemática de los dos algoritmos. Uno de ellos utiliza la matriz de convarianzas para dar peso a las variables que más influyan para con la variable target, mientras que tSNE es un algoritmo no lineal que se encarga de encontrar una representación gráfica en 2D del espacio n-dimensional de partida. Para ello emplea diferentes transformaciones en difernetes regiones del espacio n-dimensional, y estas transformaciones cambiar por cada vez que se modifica el numero de iteraciones y/o la perplejidad. \n",
    "\n",
    "Por ser más intuitivo y con un coste computacional menor, yo me decantaría primero por usar PCA, y en segundo lugar (y solo si fuese necesario) explorar el problema mediante tSNE. "
   ]
  },
  {
   "cell_type": "markdown",
   "metadata": {},
   "source": [
    "# 4. Entrenamiento y test (4 puntos)\n",
    "\n",
    "En este último ejercicio se trata de aplicar un método de aprendizaje supervisado, concretamente el Random Forest para regresión, para predecir la mediana del precio de cada zona y evaluar la precisión obtenida con el modelo. Para eso usaremos:\n",
    "<ul>\n",
    "    <li>El conjunto de datos original con todos los atributos</li>\n",
    "    <li>El conjunto de datos reducido a sólo 2 atributos con PCA</li>\n",
    "    <li>El conjunto de datos reducido a sólo 2 atributos con TSNE</li>\n",
    "</ul>\n",
    "<br>"
   ]
  },
  {
   "cell_type": "markdown",
   "metadata": {},
   "source": [
    "<div style=\"background-color: #EDF7FF; border-color: #7C9DBF; border-left: 5px solid #7C9DBF; padding: 0.5em;\">\n",
    "<strong>Ejercicio:</strong><br>\n",
    "Usando el conjunto de datos original:\n",
    "    \n",
    "<ul>\n",
    "    <li>Dividid el dataset en train y test.</li>\n",
    "    <li>Definid un modelo Random Forest (fijando n_estimators=10 para mantener el modelo simple).</li>\n",
    "    <li>Aplicad validación cruzada con el modelo definido y el dataset de train (con cv=5 ya es suficiente).</li>\n",
    "    <li>Como métrica para cuantificar el error del modelo, utilizad tanto R2 (coeficiente de determinación) como MAE (la media del error absoluto) separadamente</li>\n",
    "    <li>Calculad la media y la desviación standard del error obtenido en cada caso.</li>\n",
    "</ul>\n",
    "    \n",
    "<hr>\n",
    "Sugerencia: para separar entre train y test podéis usar 'train_test_split' de sklearn.<br>\n",
    "Sugerencia: para entrenar un modelo random forest podéis usar 'RandomForestRegressor' de sklearn.<br>\n",
    "Sugerencia: para aplicar validación cruzada podéis usar 'cross_val_score' de sklearn, y modificar su parámetro 'scoring' si fuese necesario.<br>\n",
    "</div>"
   ]
  },
  {
   "cell_type": "code",
   "execution_count": 37,
   "metadata": {},
   "outputs": [
    {
     "name": "stdout",
     "output_type": "stream",
     "text": [
      "Mean Absolute Error: 0.030957721330956613\n",
      "Mean Squared Error: 0.0034505361001467417\n",
      "Root Mean Squared Error: 0.05874126403259247\n"
     ]
    }
   ],
   "source": [
    "from sklearn import metrics\n",
    "\n",
    "X = boston_df.iloc[:, 0:4].values\n",
    "y = boston_df.iloc[:, 4].values\n",
    "\n",
    "X_train, X_test, y_train, y_test = train_test_split(X, y, test_size=0.2, random_state=0)\n",
    "\n",
    "sc = preprocessing.StandardScaler()\n",
    "X_train = sc.fit_transform(X_train)\n",
    "X_test = sc.transform(X_test)\n",
    "\n",
    "regressor = RandomForestRegressor(n_estimators=10, random_state=0)\n",
    "regressor.fit(X_train, y_train)\n",
    "y_pred = regressor.predict(X_test)\n",
    "\n",
    "print('Mean Absolute Error:', metrics.mean_absolute_error(y_test, y_pred))\n",
    "print('Mean Squared Error:', metrics.mean_squared_error(y_test, y_pred))\n",
    "print('Root Mean Squared Error:', np.sqrt(metrics.mean_squared_error(y_test, y_pred)))"
   ]
  },
  {
   "cell_type": "markdown",
   "metadata": {},
   "source": [
    "VALIDACIÓN CRUZADA\n"
   ]
  },
  {
   "cell_type": "code",
   "execution_count": 38,
   "metadata": {},
   "outputs": [
    {
     "name": "stdout",
     "output_type": "stream",
     "text": [
      "La puntuación es de:  [0.50864817 0.44983504 0.64919988]\n",
      "Accuracy: 0.54 (+/- 0.17)\n"
     ]
    },
    {
     "name": "stderr",
     "output_type": "stream",
     "text": [
      "/Users/Stephi/opt/anaconda3/lib/python3.7/site-packages/sklearn/model_selection/_split.py:1978: FutureWarning: The default value of cv will change from 3 to 5 in version 0.22. Specify it explicitly to silence this warning.\n",
      "  warnings.warn(CV_WARNING, FutureWarning)\n"
     ]
    }
   ],
   "source": [
    "from sklearn import svm\n",
    "\n",
    "regression = svm.SVR(kernel='linear', C=1).fit(X_train, y_train)\n",
    "reg_score = regression.score(X_test, y_test)\n",
    "\n",
    "clf = svm.SVC(kernel='linear', C=1)\n",
    "scores = cross_val_score(regression, X_test, y_test)\n",
    "\n",
    "print(\"La puntuación es de: \", scores)\n",
    "print(\"Accuracy: %0.2f (+/- %0.2f)\" % (scores.mean(), scores.std() * 2))"
   ]
  },
  {
   "cell_type": "markdown",
   "metadata": {},
   "source": [
    "La puntuación obtenida por la validación cruzada se encuentra en el rango de 0 a 1, siendo l la máxima efectividad del modelo. En este caso, el modelo de entrenamiento usado es un árbol de regresión. Un árbol de regresión es a priori una buena elección como algoritmo de entrenamiento, ya que tenemos muchas variables que pueden estar relacionadas entre ellas de diferentes maneras, y un árbol de decisión puede ayudar a clasificar las variables e identificar cuáles afectan más significativamente a la varible de interés, en este caso el precio. \n",
    "\n",
    "Se observa que usando un modelo de regresión basado en un árbol de decisión (regression tree) para el dataset de boston housepricing no se consiguen muy buenas predicciones, ya que la puntuación de crossvalidation es de 0,54. Este modelo es un buen análisis preliminar, pero no será el que sea utilizado para obtener las mejores predicciones. "
   ]
  },
  {
   "cell_type": "markdown",
   "metadata": {},
   "source": [
    "<div style=\"background-color: #EDF7FF; border-color: #7C9DBF; border-left: 5px solid #7C9DBF; padding: 0.5em;\">\n",
    "<strong>Ejercicio:</strong><br>\n",
    "Repetid el mismo procedimiento que en el ejercicio anterior con el dataset reducido a 2 dimensiones con PCA.\n",
    "</div>"
   ]
  },
  {
   "cell_type": "code",
   "execution_count": 39,
   "metadata": {},
   "outputs": [],
   "source": [
    "X_pca = principalDf.iloc[:, 0:4].values\n",
    "y_pca = principalDf.iloc[:, 1].values\n",
    "\n",
    "X_train_pca, X_test_pca, y_train_pca, y_test_pca = train_test_split(X_pca, y_pca, test_size=0.2, random_state=0)\n",
    "\n",
    "sc = preprocessing.StandardScaler()\n",
    "X_train_pca = sc.fit_transform(X_train_pca)\n",
    "X_test_pca = sc.transform(X_test_pca)\n",
    "\n",
    "\n",
    "regressor = RandomForestRegressor(n_estimators=10, random_state=0)\n",
    "regressor.fit(X_train_pca, y_train_pca)\n",
    "y_pred_pca = regressor.predict(X_test_pca)"
   ]
  },
  {
   "cell_type": "code",
   "execution_count": 40,
   "metadata": {},
   "outputs": [
    {
     "name": "stdout",
     "output_type": "stream",
     "text": [
      "Mean Absolute Error: 0.01947280056258209\n",
      "Mean Squared Error: 0.004616632370201989\n",
      "Root Mean Squared Error: 0.06794580465490116\n"
     ]
    }
   ],
   "source": [
    "from sklearn import metrics\n",
    "\n",
    "print('Mean Absolute Error:', metrics.mean_absolute_error(y_test_pca, y_pred_pca))\n",
    "print('Mean Squared Error:', metrics.mean_squared_error(y_test_pca, y_pred_pca))\n",
    "print('Root Mean Squared Error:', np.sqrt(metrics.mean_squared_error(y_test_pca, y_pred_pca)))"
   ]
  },
  {
   "cell_type": "markdown",
   "metadata": {},
   "source": [
    "<div style=\"background-color: #EDF7FF; border-color: #7C9DBF; border-left: 5px solid #7C9DBF; padding: 0.5em;\">\n",
    "<strong>Ejercicio:</strong><br>\n",
    "Repetid el mismo procedimiento que en el ejercicio anterior con el dataset reducido a 2 dimensiones con TSNE.\n",
    "</div>"
   ]
  },
  {
   "cell_type": "code",
   "execution_count": 41,
   "metadata": {},
   "outputs": [
    {
     "data": {
      "text/html": [
       "<div>\n",
       "<style scoped>\n",
       "    .dataframe tbody tr th:only-of-type {\n",
       "        vertical-align: middle;\n",
       "    }\n",
       "\n",
       "    .dataframe tbody tr th {\n",
       "        vertical-align: top;\n",
       "    }\n",
       "\n",
       "    .dataframe thead th {\n",
       "        text-align: right;\n",
       "    }\n",
       "</style>\n",
       "<table border=\"1\" class=\"dataframe\">\n",
       "  <thead>\n",
       "    <tr style=\"text-align: right;\">\n",
       "      <th></th>\n",
       "      <th>tSNE1</th>\n",
       "      <th>tSNE2</th>\n",
       "    </tr>\n",
       "  </thead>\n",
       "  <tbody>\n",
       "    <tr>\n",
       "      <td>0</td>\n",
       "      <td>-4.591440</td>\n",
       "      <td>7.117125</td>\n",
       "    </tr>\n",
       "    <tr>\n",
       "      <td>1</td>\n",
       "      <td>-3.901007</td>\n",
       "      <td>12.303040</td>\n",
       "    </tr>\n",
       "    <tr>\n",
       "      <td>2</td>\n",
       "      <td>-7.918499</td>\n",
       "      <td>11.554144</td>\n",
       "    </tr>\n",
       "    <tr>\n",
       "      <td>3</td>\n",
       "      <td>-7.627085</td>\n",
       "      <td>13.340219</td>\n",
       "    </tr>\n",
       "    <tr>\n",
       "      <td>4</td>\n",
       "      <td>-7.683889</td>\n",
       "      <td>13.154072</td>\n",
       "    </tr>\n",
       "  </tbody>\n",
       "</table>\n",
       "</div>"
      ],
      "text/plain": [
       "      tSNE1      tSNE2\n",
       "0 -4.591440   7.117125\n",
       "1 -3.901007  12.303040\n",
       "2 -7.918499  11.554144\n",
       "3 -7.627085  13.340219\n",
       "4 -7.683889  13.154072"
      ]
     },
     "execution_count": 41,
     "metadata": {},
     "output_type": "execute_result"
    }
   ],
   "source": [
    "tsne_results_df = pd.DataFrame(data= tsne_results, columns = ['tSNE1', 'tSNE2'])\n",
    "tsne_results_df.head()"
   ]
  },
  {
   "cell_type": "code",
   "execution_count": 42,
   "metadata": {},
   "outputs": [
    {
     "name": "stdout",
     "output_type": "stream",
     "text": [
      "Mean Absolute Error: 21.664572928524485\n",
      "Mean Squared Error: 773.8243687229293\n",
      "Root Mean Squared Error: 27.81769883946063\n"
     ]
    }
   ],
   "source": [
    "X_tsne = tsne_results_df.iloc[:, 0:4].values\n",
    "y_tsne = tsne_results_df.iloc[:, 1].values\n",
    "\n",
    "X_train_tsne, X_test_tsne, y_train_tsne, y_test_tsne = train_test_split(X_tsne, y_tsne, test_size=0.2, random_state=0)\n",
    "\n",
    "sc = preprocessing.StandardScaler()\n",
    "X_train_tsne = sc.fit_transform(X_train_tsne)\n",
    "X_test_tsne = sc.transform(X_test_tsne)\n",
    "\n",
    "regressor = RandomForestRegressor(n_estimators=10, random_state=0)\n",
    "regressor.fit(X_train_pca, y_train_tsne)\n",
    "y_pred_tsne = regressor.predict(X_test_tsne)\n",
    "\n",
    "print('Mean Absolute Error:', metrics.mean_absolute_error(y_test_tsne, y_pred_tsne))\n",
    "print('Mean Squared Error:', metrics.mean_squared_error(y_test_tsne, y_pred_tsne))\n",
    "print('Root Mean Squared Error:', np.sqrt(metrics.mean_squared_error(y_test_tsne, y_pred_tsne)))"
   ]
  },
  {
   "cell_type": "markdown",
   "metadata": {},
   "source": [
    "<div style=\"background-color: #EDF7FF; border-color: #7C9DBF; border-left: 5px solid #7C9DBF; padding: 0.5em;\">\n",
    "<strong>Análisis:</strong><br>\n",
    "¿Con qué datos ha funcionado mejor? ¿Tiene sentido? ¿Cuadra con los resultados que hemos visto en el ejercicio 3?\n",
    "</div>"
   ]
  },
  {
   "cell_type": "markdown",
   "metadata": {},
   "source": [
    "Usando un modelo de regression tree, se ve que los datos que más error han generado son los generados por el tSNE, seguidos por los datos reducidos por PCA y, por último, los datos originales. Con estos resultados, primero habría que descartar los datos obtenidos con tSNE. \n",
    "\n",
    "Entre las otras dos posibilidades, hay que evaluar la significancia en la diferencia de los errores. Comparando los resultados de la validación cruzada de ambos modelos, se observa que el subset reducido por PCA presenta una puntuación de CV mayor que la del set original. La puntuación obtenida es de 1 con una sd = 0. \n",
    "\n",
    "Al aplicar una reducción de la dimensionalidad de 2 componentes mediante PCA, estamos obteniendo dos vectores en 2 dimensiones que representan las variables con más peso del dataset original mediante el análsis de la matriz de covarianza. Aplicar una CV en un resultado de PCA es muy útil para evaluar el número de componentes más óptimo al aplicar una reducción de la dimensionalidad a un dataset, pero quizá no sirva de mucho para evaluar la eficacia en la predicción del modelo de regresión. \n",
    "\n",
    "En este link (http://alexhwilliams.info/itsneuronalblog/2018/02/26/crossval/) se explica muy bien la naturaleza del algoritmo de CV, sus limitaciones y cómo es útil para determinar el numero de componentes de la reducción de la dimensionalidad. "
   ]
  },
  {
   "cell_type": "markdown",
   "metadata": {},
   "source": [
    "<div style=\"background-color: #EDF7FF; border-color: #7C9DBF; border-left: 5px solid #7C9DBF; padding: 0.5em;\">\n",
    "<strong>Ejercicio:</strong><br>\n",
    "Con el mejor modelo que hayáis obtenido:\n",
    "    \n",
    "<ul>\n",
    "  <li>Generad predicciones sobre el dataset de test.</li>\n",
    "  <li>Calculad la precisión de las predicciones obtenidas (R2 y MAE).</li>\n",
    "</ul>\n",
    " \n",
    "<hr>\n",
    "Sugerencia: para calcular R2 y MAE podéis usar las funciones dentro del módulo \"metrics\" de sklearn.\n",
    "</div>"
   ]
  },
  {
   "cell_type": "code",
   "execution_count": 43,
   "metadata": {},
   "outputs": [
    {
     "name": "stdout",
     "output_type": "stream",
     "text": [
      "Mean Absolute Error: 0.030957721330956613\n",
      "Coefficient of determination: 0.7538496779101119\n"
     ]
    }
   ],
   "source": [
    "print('Mean Absolute Error:', metrics.mean_absolute_error(y_test, y_pred)) #MAE\n",
    "print('Coefficient of determination:', metrics.r2_score(y_test, y_pred)) #R2"
   ]
  },
  {
   "cell_type": "markdown",
   "metadata": {},
   "source": [
    "<div style=\"background-color: #EDF7FF; border-color: #7C9DBF; border-left: 5px solid #7C9DBF; padding: 0.5em;\">\n",
    "<strong>Análisis:</strong><br>\n",
    "¿Cuál de las dos métricas propuestas para evaluar los modelos (R2 o MAE) utilizaríais para explicar lo bueno que es el modelo a un ejecutivo de una inmobiliaria? ¿Y para explicarlo a un analista matemático de la misma compañía? Por qué?  \n",
    "</div>"
   ]
  },
  {
   "cell_type": "markdown",
   "metadata": {},
   "source": [
    "R^2:\n",
    "\n",
    "Representa la proporción de varianza (de y) que ha sido explicada por las variables independientes en el modelo. Proporciona una indicación de bondad de ajuste y, por lo tanto, una medida de qué tan bien es probable que el modelo prediga las muestras invisibles, a través de la proporción de varianza explicada.\n",
    "\n",
    "MAE:\n",
    "\n",
    "MAE es la medida de los errores entre observaciones emparejadas que expresan el mismo fenomeno. Algunos ejemplos son comparación entre resultado predicho y observado o resultados de una técnica de medida vs otra técnica. Cuanto menor es MAE, mayor es la bondad de predicción del modelo. \n",
    "\n",
    "\n",
    "Yo eligiría R^2 para explicárselo al ejecutivo, ya que puede ser una medida más intuitiva y fácil de interpretar de la calidad de un modelo. Utilizaría una herramienta visual y haría una comparativa con algún ejemplo que le resulte más cotidiano. \n",
    "\n",
    "Utilizaría MAE para hablar con el analista matemático, ya que el error absoluto es una medida que permite evaluar el modelo utilizado."
   ]
  },
  {
   "cell_type": "markdown",
   "metadata": {},
   "source": [
    "<div style=\"background-color: #EDF7FF; border-color: #7C9DBF; border-left: 5px solid #7C9DBF; padding: 0.5em;\">\n",
    "<strong>Ejercicio:</strong><br>\n",
    "El modelo random forest depende de muchos parámetros. En este ejercicio sólo hemos especificado el número de árboles (n_estimators) y hemos dejado que usara el resto de parámetros por defecto. Dos parámetros muy útiles en los random forest (y en cualquier modelo que use árboles) son el max_depth y el min_samples_split. Estos parámetros ayudan a controlar el overfitting.\n",
    "    \n",
    "Entrenad los modelos anteriores usando diferentes combinaciones de los parámetros:<ul>\n",
    "  <li>n_estimators</li>\n",
    "  <li>max_depth</li>\n",
    "  <li>min_samples_split</li>\n",
    "</ul>\n",
    "con el objetivo de encontrar la combinación de parámetros que da los mejores resultados en el conjunto de datos de entrenamiento.\n",
    "\n",
    "Para el modelo con la mejor combinación de parámetros, calculad las métricas de error (R2 y MAE) en el conjunto de datos de test.\n",
    "</div>"
   ]
  },
  {
   "cell_type": "markdown",
   "metadata": {},
   "source": [
    "Random forest regressor:\n",
    "\n",
    "n_estimators: The number of trees in the forest.\n",
    "\n",
    "max_depth: The maximum depth of the tree. \n",
    "\n",
    "min_samples_split: The minimum number of samples required to split an internal node"
   ]
  },
  {
   "cell_type": "code",
   "execution_count": 44,
   "metadata": {},
   "outputs": [
    {
     "name": "stdout",
     "output_type": "stream",
     "text": [
      "Valor mínimo de MAE: 0.028077777777777785 \n",
      "\n"
     ]
    },
    {
     "data": {
      "image/png": "[encoded data removed]",
      "text/plain": [
       "<Figure size 432x288 with 1 Axes>"
      ]
     },
     "metadata": {
      "needs_background": "light"
     },
     "output_type": "display_data"
    }
   ],
   "source": [
    "estimators = list(range(2,41))\n",
    "MAE_list = []\n",
    "r2_list = []\n",
    "\n",
    "for estimator in estimators: \n",
    "    regressor = RandomForestRegressor(n_estimators=estimator)\n",
    "    regressor.fit(X_train, y_train)\n",
    "    y_pred = regressor.predict(X_test)\n",
    "\n",
    "    MAE = metrics.mean_absolute_error(y_test, y_pred)\n",
    "    r2 = metrics.r2_score(y_test, y_pred)\n",
    "    \n",
    "    MAE_list.append(MAE)\n",
    "    r2_list.append(r2)\n",
    "    \n",
    "print(\"Valor mínimo de MAE:\", min(MAE_list), \"\\n\")\n",
    "plt.plot(MAE_list, c = \"green\")\n",
    "plt.title(\"MAE vs n_estimators\")\n",
    "plt.show()"
   ]
  },
  {
   "cell_type": "code",
   "execution_count": 45,
   "metadata": {},
   "outputs": [
    {
     "name": "stdout",
     "output_type": "stream",
     "text": [
      "Valor máximo de r^2: 0.7988305296328716\n"
     ]
    },
    {
     "data": {
      "image/png": "[encoded data removed]",
      "text/plain": [
       "<Figure size 432x288 with 1 Axes>"
      ]
     },
     "metadata": {
      "needs_background": "light"
     },
     "output_type": "display_data"
    }
   ],
   "source": [
    "print(\"Valor máximo de r^2:\", max(r2_list))\n",
    "plt.plot(r2_list, c = \"green\")\n",
    "plt.title(\"R^2 vs n_estimators\")\n",
    "plt.show()"
   ]
  },
  {
   "cell_type": "code",
   "execution_count": 46,
   "metadata": {},
   "outputs": [
    {
     "data": {
      "image/png": "[encoded data removed]",
      "text/plain": [
       "<Figure size 432x288 with 1 Axes>"
      ]
     },
     "metadata": {
      "needs_background": "light"
     },
     "output_type": "display_data"
    }
   ],
   "source": [
    "splits = list(range(2,100))\n",
    "\n",
    "mae_split = []\n",
    "r2_split = []\n",
    "\n",
    "for split in splits: \n",
    "    regressor = RandomForestRegressor(n_estimators=6, max_depth= 5, min_samples_split=split)\n",
    "    regressor.fit(X_train, y_train)\n",
    "    y_pred = regressor.predict(X_test)\n",
    "   \n",
    "    mae_sp = metrics.mean_absolute_error(y_test, y_pred)\n",
    "    r2_sp = metrics.r2_score(y_test, y_pred)\n",
    "   \n",
    "    mae_split.append(mae_sp)\n",
    "    r2_split.append(r2_sp)\n",
    "    \n",
    "\n",
    "plt.plot(mae_split, c = \"darkorange\")\n",
    "plt.title(\"MAE vs min_samples_split\")\n",
    "plt.show()"
   ]
  },
  {
   "cell_type": "code",
   "execution_count": 47,
   "metadata": {
    "scrolled": true
   },
   "outputs": [
    {
     "data": {
      "image/png": "[encoded data removed]",
      "text/plain": [
       "<Figure size 432x288 with 1 Axes>"
      ]
     },
     "metadata": {
      "needs_background": "light"
     },
     "output_type": "display_data"
    }
   ],
   "source": [
    "plt.plot(r2_split, c = \"darkorange\")\n",
    "plt.title(\"R^2 vs min_samples_split\")\n",
    "plt.show()"
   ]
  },
  {
   "cell_type": "markdown",
   "metadata": {},
   "source": [
    "<div style=\"background-color: #EDF7FF; border-color: #7C9DBF; border-left: 5px solid #7C9DBF; padding: 0.5em;\">\n",
    "<strong>Análisis:</strong><br>\n",
    "¿Habéis conseguido mejorar el modelo? ¿Cuál ha sido el impacto de variar cada parámetro en la precisión del modelo?  \n",
    "</div>"
   ]
  },
  {
   "cell_type": "code",
   "execution_count": 48,
   "metadata": {
    "scrolled": true
   },
   "outputs": [
    {
     "name": "stdout",
     "output_type": "stream",
     "text": [
      "Mean Absolute Error: 0.03963635276203037\n",
      "Coefficient of determination: 0.7505154641105302\n"
     ]
    }
   ],
   "source": [
    "regressor = RandomForestRegressor(n_estimators=6, max_depth= 5, min_samples_split=18)\n",
    "regressor.fit(X_train, y_train)\n",
    "y_pred = regressor.predict(X_test)\n",
    "\n",
    "print('Mean Absolute Error:', metrics.mean_absolute_error(y_test, y_pred)) #MAE\n",
    "print('Coefficient of determination:', metrics.r2_score(y_test, y_pred)) #R2"
   ]
  }
 ],
 "metadata": {
  "kernelspec": {
   "display_name": "Python 3",
   "language": "python",
   "name": "python3"
  },
  "language_info": {
   "codemirror_mode": {
    "name": "ipython",
    "version": 3
   },
   "file_extension": ".py",
   "mimetype": "text/x-python",
   "name": "python",
   "nbconvert_exporter": "python",
   "pygments_lexer": "ipython3",
   "version": "3.7.4"
  },
  "toc": {
   "base_numbering": 1,
   "nav_menu": {},
   "number_sections": true,
   "sideBar": true,
   "skip_h1_title": false,
   "title_cell": "Table of Contents",
   "title_sidebar": "Contents",
   "toc_cell": false,
   "toc_position": {},
   "toc_section_display": true,
   "toc_window_display": false
  }
 },
 "nbformat": 4,
 "nbformat_minor": 4
}
